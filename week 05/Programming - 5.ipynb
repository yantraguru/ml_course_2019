{
 "cells": [
  {
   "cell_type": "code",
   "execution_count": 1,
   "metadata": {},
   "outputs": [],
   "source": [
    "import numpy as np\n",
    "import matplotlib.pyplot as plt"
   ]
  },
  {
   "cell_type": "code",
   "execution_count": 13,
   "metadata": {},
   "outputs": [],
   "source": [
    "def get_cost(x):\n",
    "    cost = x**4 - 3*x**3 + 2\n",
    "    return cost"
   ]
  },
  {
   "cell_type": "code",
   "execution_count": 14,
   "metadata": {},
   "outputs": [],
   "source": [
    "b1 = np.arange(0.5, 3, 0.05)\n",
    "cost = get_cost(b1)"
   ]
  },
  {
   "cell_type": "code",
   "execution_count": 15,
   "metadata": {},
   "outputs": [
    {
     "data": {
      "image/png": "[encoded data removed]",
      "text/plain": [
       "<Figure size 432x288 with 1 Axes>"
      ]
     },
     "metadata": {},
     "output_type": "display_data"
    }
   ],
   "source": [
    "plt.plot(b1, cost)\n",
    "plt.show()"
   ]
  },
  {
   "cell_type": "code",
   "execution_count": 16,
   "metadata": {},
   "outputs": [],
   "source": [
    "def derivative(x):\n",
    "    return 4*x**3 - 9*x**2"
   ]
  },
  {
   "cell_type": "code",
   "execution_count": 37,
   "metadata": {},
   "outputs": [
    {
     "name": "stdout",
     "output_type": "stream",
     "text": [
      "# 1 : parameter estimate : 1.4666 Cost : -2.8374\n",
      "# 2 : parameter estimate : 1.5340 Cost : -3.2922\n",
      "# 3 : parameter estimate : 1.6014 Cost : -3.7440\n",
      "# 4 : parameter estimate : 1.6680 Cost : -4.1813\n",
      "# 5 : parameter estimate : 1.7327 Cost : -4.5927\n",
      "# 6 : parameter estimate : 1.7949 Cost : -4.9683\n",
      "# 7 : parameter estimate : 1.8535 Cost : -5.3005\n",
      "# 8 : parameter estimate : 1.9080 Cost : -5.5850\n",
      "# 9 : parameter estimate : 1.9578 Cost : -5.8209\n",
      "# 10 : parameter estimate : 2.0026 Cost : -6.0103\n",
      "# 11 : parameter estimate : 2.0423 Cost : -6.1580\n",
      "# 12 : parameter estimate : 2.0769 Cost : -6.2699\n",
      "# 13 : parameter estimate : 2.1068 Cost : -6.3525\n",
      "# 14 : parameter estimate : 2.1322 Cost : -6.4121\n",
      "# 15 : parameter estimate : 2.1536 Cost : -6.4542\n",
      "# 16 : parameter estimate : 2.1715 Cost : -6.4835\n",
      "# 17 : parameter estimate : 2.1863 Cost : -6.5034\n",
      "# 18 : parameter estimate : 2.1985 Cost : -6.5169\n",
      "# 19 : parameter estimate : 2.2085 Cost : -6.5259\n",
      "# 20 : parameter estimate : 2.2166 Cost : -6.5319\n",
      "# 21 : parameter estimate : 2.2231 Cost : -6.5358\n",
      "# 22 : parameter estimate : 2.2284 Cost : -6.5383\n",
      "# 23 : parameter estimate : 2.2327 Cost : -6.5400\n",
      "# 24 : parameter estimate : 2.2362 Cost : -6.5410\n",
      "# 25 : parameter estimate : 2.2389 Cost : -6.5417\n",
      "# 26 : parameter estimate : 2.2412 Cost : -6.5422\n",
      "# 27 : parameter estimate : 2.2429 Cost : -6.5425\n",
      "# 28 : parameter estimate : 2.2444 Cost : -6.5426\n",
      "# 29 : parameter estimate : 2.2455 Cost : -6.5428\n",
      "# 30 : parameter estimate : 2.2464 Cost : -6.5428\n",
      "# 31 : parameter estimate : 2.2471 Cost : -6.5429\n",
      "# 32 : parameter estimate : 2.2477 Cost : -6.5429\n",
      "# 33 : parameter estimate : 2.2482 Cost : -6.5429\n",
      "# 34 : parameter estimate : 2.2485 Cost : -6.5429\n",
      "# 35 : parameter estimate : 2.2488 Cost : -6.5430\n",
      "# 36 : parameter estimate : 2.2491 Cost : -6.5430\n",
      "# 37 : parameter estimate : 2.2493 Cost : -6.5430\n",
      "# 38 : parameter estimate : 2.2494 Cost : -6.5430\n",
      "# 39 : parameter estimate : 2.2495 Cost : -6.5430\n",
      "# 40 : parameter estimate : 2.2496 Cost : -6.5430\n",
      "# 41 : parameter estimate : 2.2497 Cost : -6.5430\n",
      "# 42 : parameter estimate : 2.2498 Cost : -6.5430\n",
      "# 43 : parameter estimate : 2.2498 Cost : -6.5430\n",
      "# 44 : parameter estimate : 2.2498 Cost : -6.5430\n",
      "# 45 : parameter estimate : 2.2499 Cost : -6.5430\n",
      "# 46 : parameter estimate : 2.2499 Cost : -6.5430\n",
      "# 47 : parameter estimate : 2.2499 Cost : -6.5430\n",
      "# 48 : parameter estimate : 2.2499 Cost : -6.5430\n",
      "# 49 : parameter estimate : 2.2500 Cost : -6.5430\n",
      "# 50 : parameter estimate : 2.2500 Cost : -6.5430\n",
      "Validation of Minima : -0.001\n"
     ]
    }
   ],
   "source": [
    "#np.random.seed(123)\n",
    "b1_old = np.random.choice(b1)\n",
    "b1_new = np.random.choice(b1)\n",
    "\n",
    "STEP_SIZE = 0.01\n",
    "PRECISION = 0.001\n",
    "MAX_ITERATION = 50\n",
    "\n",
    "iteration_count = 0\n",
    "while abs(b1_new - b1_old) > precision and iteration_count <MAX_ITERATION:\n",
    "    b1_old = b1_new\n",
    "    b1_new = b1_old - STEP_SIZE*derivative(b1_old)\n",
    "    iteration_count+=1\n",
    "    print('# %d : parameter estimate : %.4f Cost : %.4f' % (iteration_count,b1_new,get_cost(b1_new)))\n",
    "    \n",
    "b1_optimum = b1_new\n",
    "derivative_at_b1_optimum = derivative(b1_optimum)\n",
    "print('Validation of Minima : %.3f'%derivative_at_b1_optimum)"
   ]
  },
  {
   "cell_type": "code",
   "execution_count": null,
   "metadata": {},
   "outputs": [],
   "source": []
  }
 ],
 "metadata": {
  "kernelspec": {
   "display_name": "Python 3",
   "language": "python",
   "name": "python3"
  },
  "language_info": {
   "codemirror_mode": {
    "name": "ipython",
    "version": 3
   },
   "file_extension": ".py",
   "mimetype": "text/x-python",
   "name": "python",
   "nbconvert_exporter": "python",
   "pygments_lexer": "ipython3",
   "version": "3.6.5"
  }
 },
 "nbformat": 4,
 "nbformat_minor": 2
}
