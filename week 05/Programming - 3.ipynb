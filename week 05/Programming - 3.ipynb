{
 "cells": [
  {
   "cell_type": "markdown",
   "metadata": {},
   "source": [
    "## Functions"
   ]
  },
  {
   "cell_type": "code",
   "execution_count": 4,
   "metadata": {},
   "outputs": [
    {
     "name": "stdout",
     "output_type": "stream",
     "text": [
      "pretty: SUBHANRAO BHASKARRAO SINGHAM\n"
     ]
    }
   ],
   "source": [
    "def strip_and_uppercase(original):\n",
    "    modified = original.strip().upper()\n",
    "    return modified\n",
    "\n",
    "uggly_string = '  Subhanrao Bhaskarrao Singham '\n",
    "pretty = strip_and_uppercase(uggly_string)\n",
    "print('pretty: {}'.format(pretty))"
   ]
  },
  {
   "cell_type": "code",
   "execution_count": 6,
   "metadata": {},
   "outputs": [],
   "source": [
    "def create_person_info(name, percentage, age=18, place='Pune'):\n",
    "    info = {'name': strip_and_uppercase(name), \n",
    "            'percentage' : percentage,\n",
    "            'age': age, \n",
    "            'place': place}\n",
    "    \n",
    "    return info"
   ]
  },
  {
   "cell_type": "code",
   "execution_count": 7,
   "metadata": {},
   "outputs": [
    {
     "name": "stdout",
     "output_type": "stream",
     "text": [
      "{'name': 'YOGITA SADANAND YEOLE', 'percentage': 99.9, 'age': 18, 'place': 'Pune'}\n",
      "{'name': 'SADHAK SAMADHAN BHALERAO', 'percentage': 97.2, 'age': 19, 'place': 'Nasik'}\n"
     ]
    }
   ],
   "source": [
    "person1 = create_person_info('Yogita Sadanand Yeole', 99.9) \n",
    "person2 = create_person_info('Sadhak Samadhan Bhalerao', 97.2, 19, 'Nasik')\n",
    "print(person1)\n",
    "print(person2)"
   ]
  },
  {
   "cell_type": "markdown",
   "metadata": {},
   "source": [
    "The game of chess is generally believed to have been invented in India in the sixth century for a ruling king by one of his subjects. The king was supposedly very delighted with the game and asked the subject what he wanted in return. The subject, being clever, asked for one grain of wheat on the first square, two grains of wheat on the second square, four grains of wheat on the third square, and so forth,doubling the amount on each next square. The king thought that this was a modest reward for such aninvention. \n",
    "\n",
    "Develop a Python function that calculates how much wheat this would be in pounds, using the fact that a grain of wheat weighs approximately 1/16,000 of a kilogram.\n",
    "\n",
    "num_squares can have min value of 1 and max value of 64"
   ]
  },
  {
   "cell_type": "code",
   "execution_count": 10,
   "metadata": {},
   "outputs": [],
   "source": [
    "def get_weight(num_squares):\n",
    "    pass"
   ]
  },
  {
   "cell_type": "code",
   "execution_count": null,
   "metadata": {},
   "outputs": [],
   "source": []
  }
 ],
 "metadata": {
  "kernelspec": {
   "display_name": "Python 3",
   "language": "python",
   "name": "python3"
  },
  "language_info": {
   "codemirror_mode": {
    "name": "ipython",
    "version": 3
   },
   "file_extension": ".py",
   "mimetype": "text/x-python",
   "name": "python",
   "nbconvert_exporter": "python",
   "pygments_lexer": "ipython3",
   "version": "3.6.5"
  }
 },
 "nbformat": 4,
 "nbformat_minor": 2
}
