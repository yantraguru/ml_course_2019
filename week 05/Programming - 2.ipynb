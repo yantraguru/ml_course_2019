{
 "cells": [
  {
   "cell_type": "code",
   "execution_count": 16,
   "metadata": {},
   "outputs": [],
   "source": [
    "import math"
   ]
  },
  {
   "cell_type": "markdown",
   "metadata": {},
   "source": [
    "## Condition"
   ]
  },
  {
   "cell_type": "code",
   "execution_count": 1,
   "metadata": {},
   "outputs": [
    {
     "name": "stdout",
     "output_type": "stream",
     "text": [
      "value is greater than 10 but less than 100\n"
     ]
    }
   ],
   "source": [
    "val = 32.5\n",
    "if val >= 100:\n",
    "    print('value is equal or greater than 100')\n",
    "elif val > 10:\n",
    "    print('value is greater than 10 but less than 100')\n",
    "else:\n",
    "    print('value is equal or less than 10')"
   ]
  },
  {
   "cell_type": "code",
   "execution_count": 2,
   "metadata": {},
   "outputs": [],
   "source": [
    "str_val = 'Never mix lime and ...'"
   ]
  },
  {
   "cell_type": "code",
   "execution_count": 7,
   "metadata": {},
   "outputs": [
    {
     "name": "stdout",
     "output_type": "stream",
     "text": [
      "There is some value in str\n",
      "This is a small str\n",
      "This is about lime\n"
     ]
    }
   ],
   "source": [
    "if(str_val):\n",
    "    print('There is some value in str')\n",
    "    \n",
    "if len(str_val) < 30:\n",
    "    print('This is a small str') \n",
    "    \n",
    "if 'lime' in str_val:\n",
    "    print('This is about lime')     "
   ]
  },
  {
   "cell_type": "markdown",
   "metadata": {},
   "source": [
    "## Loops"
   ]
  },
  {
   "cell_type": "code",
   "execution_count": 8,
   "metadata": {},
   "outputs": [
    {
     "name": "stdout",
     "output_type": "stream",
     "text": [
      "Never\n",
      "mix\n",
      "lime\n",
      "and\n",
      "...\n"
     ]
    }
   ],
   "source": [
    "for item in str_val.split():\n",
    "    print(item)"
   ]
  },
  {
   "cell_type": "code",
   "execution_count": 9,
   "metadata": {},
   "outputs": [
    {
     "name": "stdout",
     "output_type": "stream",
     "text": [
      "You animal...you ate pizza worth : 5750\n"
     ]
    }
   ],
   "source": [
    "total_party_spending = 0.0\n",
    "monthly_spend_pizza = [400,320.20,120.67,99.00,800,250,670,780,1200,790,1100,3450,90,3]\n",
    "for price in monthly_spend_pizza:\n",
    "    if price > 1000.0:\n",
    "        total_party_spending = total_party_spending + price\n",
    "\n",
    "print('You animal...you ate pizza worth : %2.f'%total_party_spending)"
   ]
  },
  {
   "cell_type": "code",
   "execution_count": 11,
   "metadata": {},
   "outputs": [
    {
     "name": "stdout",
     "output_type": "stream",
     "text": [
      "No need to calculate.. You are spending too much.\n",
      "You animal...you ate pizza more than : 2300\n"
     ]
    }
   ],
   "source": [
    "total_party_spending = 0.0\n",
    "monthly_spend_pizza = [400,320.20,120.67,99.00,800,250,670,780,1200,790,1100,3450,90,3]\n",
    "for price in monthly_spend_pizza:\n",
    "    if price > 1000.0:\n",
    "        total_party_spending = total_party_spending + price\n",
    "        if total_party_spending > 2000:\n",
    "            print('No need to calculate.. You are spending too much.')\n",
    "            break\n",
    "\n",
    "print('You animal...you ate pizza more than : %2.f'%total_party_spending)"
   ]
  },
  {
   "cell_type": "code",
   "execution_count": 12,
   "metadata": {},
   "outputs": [
    {
     "name": "stdout",
     "output_type": "stream",
     "text": [
      "0\n",
      "1\n",
      "2\n",
      "3\n",
      "4\n"
     ]
    }
   ],
   "source": [
    "for number in range(5):\n",
    "    print(number)"
   ]
  },
  {
   "cell_type": "code",
   "execution_count": 14,
   "metadata": {},
   "outputs": [
    {
     "name": "stdout",
     "output_type": "stream",
     "text": [
      "0\n",
      "2\n",
      "4\n",
      "6\n",
      "8\n"
     ]
    }
   ],
   "source": [
    "for number in range(0, 10, 2):\n",
    "    print(number)"
   ]
  },
  {
   "cell_type": "code",
   "execution_count": 18,
   "metadata": {},
   "outputs": [
    {
     "data": {
      "text/plain": [
       "[0, 123, 246, 369, 492, 615, 738, 861, 984]"
      ]
     },
     "execution_count": 18,
     "metadata": {},
     "output_type": "execute_result"
    }
   ],
   "source": [
    "amazing_num = [num for num in range(0,1000) if num%123 == 0]\n",
    "amazing_num"
   ]
  }
 ],
 "metadata": {
  "kernelspec": {
   "display_name": "Python 3",
   "language": "python",
   "name": "python3"
  },
  "language_info": {
   "codemirror_mode": {
    "name": "ipython",
    "version": 3
   },
   "file_extension": ".py",
   "mimetype": "text/x-python",
   "name": "python",
   "nbconvert_exporter": "python",
   "pygments_lexer": "ipython3",
   "version": "3.6.5"
  }
 },
 "nbformat": 4,
 "nbformat_minor": 2
}
