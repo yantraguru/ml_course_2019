{
 "cells": [
  {
   "cell_type": "code",
   "execution_count": 1,
   "metadata": {},
   "outputs": [
    {
     "data": {
      "text/html": [
       "<style>.container { width:85% !important; }</style>"
      ],
      "text/plain": [
       "<IPython.core.display.HTML object>"
      ]
     },
     "metadata": {},
     "output_type": "display_data"
    }
   ],
   "source": [
    "from IPython.core.display import display, HTML\n",
    "display(HTML(\"<style>.container { width:85% !important; }</style>\"))"
   ]
  },
  {
   "cell_type": "code",
   "execution_count": 2,
   "metadata": {},
   "outputs": [],
   "source": [
    "#standard lib\n",
    "\n",
    "# modules for data analysis\n",
    "import numpy as np\n",
    "import pandas as pd\n",
    "\n",
    "#modules for preprocessing and machine learning\n",
    "from sklearn.linear_model import LinearRegression\n",
    "from sklearn.model_selection import train_test_split\n",
    "from sklearn import metrics\n",
    "\n",
    "from sklearn.preprocessing import OneHotEncoder\n",
    "from sklearn.preprocessing import LabelEncoder\n",
    "from sklearn.preprocessing import MinMaxScaler\n",
    "from sklearn.preprocessing import StandardScaler\n",
    "from scipy.stats import pearsonr\n",
    "\n",
    "from sklearn.model_selection import cross_val_score\n",
    "\n",
    "# modules for visualization\n",
    "import matplotlib.pyplot as plt\n",
    "import seaborn as sns\n",
    "%matplotlib inline\n",
    "\n",
    "#for producing consistent results when used random function\n",
    "SEED = 13"
   ]
  },
  {
   "cell_type": "code",
   "execution_count": 3,
   "metadata": {},
   "outputs": [
    {
     "name": "stdout",
     "output_type": "stream",
     "text": [
      "Data shape : rows: 240, cols : 9\n"
     ]
    }
   ],
   "source": [
    "train_data = pd.read_csv('used_cars_train_data.csv',index_col=0)\n",
    "print('Data shape : rows: %s, cols : %s'% train_data.shape)"
   ]
  },
  {
   "cell_type": "code",
   "execution_count": 4,
   "metadata": {},
   "outputs": [
    {
     "data": {
      "text/plain": [
       "(61, 8)"
      ]
     },
     "execution_count": 4,
     "metadata": {},
     "output_type": "execute_result"
    }
   ],
   "source": [
    "test_data = pd.read_csv('used_cars_test_data.csv',index_col=0)\n",
    "test_data.shape"
   ]
  },
  {
   "cell_type": "code",
   "execution_count": 5,
   "metadata": {},
   "outputs": [
    {
     "data": {
      "text/html": [
       "<div>\n",
       "<style scoped>\n",
       "    .dataframe tbody tr th:only-of-type {\n",
       "        vertical-align: middle;\n",
       "    }\n",
       "\n",
       "    .dataframe tbody tr th {\n",
       "        vertical-align: top;\n",
       "    }\n",
       "\n",
       "    .dataframe thead th {\n",
       "        text-align: right;\n",
       "    }\n",
       "</style>\n",
       "<table border=\"1\" class=\"dataframe\">\n",
       "  <thead>\n",
       "    <tr style=\"text-align: right;\">\n",
       "      <th></th>\n",
       "      <th>Car_Name</th>\n",
       "      <th>Year</th>\n",
       "      <th>Selling_Price</th>\n",
       "      <th>Price</th>\n",
       "      <th>Kms_Driven</th>\n",
       "      <th>Fuel_Type</th>\n",
       "      <th>Seller_Type</th>\n",
       "      <th>Transmission</th>\n",
       "      <th>Owner</th>\n",
       "    </tr>\n",
       "  </thead>\n",
       "  <tbody>\n",
       "    <tr>\n",
       "      <th>35</th>\n",
       "      <td>sx4</td>\n",
       "      <td>2011</td>\n",
       "      <td>2.95</td>\n",
       "      <td>7.74</td>\n",
       "      <td>49998</td>\n",
       "      <td>CNG</td>\n",
       "      <td>Dealer</td>\n",
       "      <td>Manual</td>\n",
       "      <td>1</td>\n",
       "    </tr>\n",
       "    <tr>\n",
       "      <th>157</th>\n",
       "      <td>Yamaha FZ S V 2.0</td>\n",
       "      <td>2015</td>\n",
       "      <td>0.48</td>\n",
       "      <td>0.84</td>\n",
       "      <td>23000</td>\n",
       "      <td>Petrol</td>\n",
       "      <td>Individual</td>\n",
       "      <td>Manual</td>\n",
       "      <td>1</td>\n",
       "    </tr>\n",
       "    <tr>\n",
       "      <th>218</th>\n",
       "      <td>verna</td>\n",
       "      <td>2014</td>\n",
       "      <td>6.45</td>\n",
       "      <td>9.40</td>\n",
       "      <td>45078</td>\n",
       "      <td>Petrol</td>\n",
       "      <td>Dealer</td>\n",
       "      <td>Manual</td>\n",
       "      <td>1</td>\n",
       "    </tr>\n",
       "    <tr>\n",
       "      <th>32</th>\n",
       "      <td>swift</td>\n",
       "      <td>2014</td>\n",
       "      <td>4.95</td>\n",
       "      <td>7.49</td>\n",
       "      <td>39000</td>\n",
       "      <td>Diesel</td>\n",
       "      <td>Dealer</td>\n",
       "      <td>Manual</td>\n",
       "      <td>1</td>\n",
       "    </tr>\n",
       "    <tr>\n",
       "      <th>237</th>\n",
       "      <td>creta</td>\n",
       "      <td>2015</td>\n",
       "      <td>11.25</td>\n",
       "      <td>13.60</td>\n",
       "      <td>68000</td>\n",
       "      <td>Diesel</td>\n",
       "      <td>Dealer</td>\n",
       "      <td>Manual</td>\n",
       "      <td>1</td>\n",
       "    </tr>\n",
       "    <tr>\n",
       "      <th>216</th>\n",
       "      <td>eon</td>\n",
       "      <td>2016</td>\n",
       "      <td>2.90</td>\n",
       "      <td>4.43</td>\n",
       "      <td>12500</td>\n",
       "      <td>Petrol</td>\n",
       "      <td>Dealer</td>\n",
       "      <td>Manual</td>\n",
       "      <td>1</td>\n",
       "    </tr>\n",
       "    <tr>\n",
       "      <th>39</th>\n",
       "      <td>sx4</td>\n",
       "      <td>2003</td>\n",
       "      <td>2.25</td>\n",
       "      <td>7.98</td>\n",
       "      <td>62000</td>\n",
       "      <td>Petrol</td>\n",
       "      <td>Dealer</td>\n",
       "      <td>Manual</td>\n",
       "      <td>1</td>\n",
       "    </tr>\n",
       "    <tr>\n",
       "      <th>206</th>\n",
       "      <td>xcent</td>\n",
       "      <td>2017</td>\n",
       "      <td>5.75</td>\n",
       "      <td>7.13</td>\n",
       "      <td>12479</td>\n",
       "      <td>Petrol</td>\n",
       "      <td>Dealer</td>\n",
       "      <td>Manual</td>\n",
       "      <td>1</td>\n",
       "    </tr>\n",
       "    <tr>\n",
       "      <th>186</th>\n",
       "      <td>TVS Wego</td>\n",
       "      <td>2010</td>\n",
       "      <td>0.25</td>\n",
       "      <td>0.52</td>\n",
       "      <td>22000</td>\n",
       "      <td>Petrol</td>\n",
       "      <td>Individual</td>\n",
       "      <td>Automatic</td>\n",
       "      <td>1</td>\n",
       "    </tr>\n",
       "    <tr>\n",
       "      <th>165</th>\n",
       "      <td>Activa 3g</td>\n",
       "      <td>2016</td>\n",
       "      <td>0.45</td>\n",
       "      <td>0.54</td>\n",
       "      <td>500</td>\n",
       "      <td>Petrol</td>\n",
       "      <td>Individual</td>\n",
       "      <td>Automatic</td>\n",
       "      <td>1</td>\n",
       "    </tr>\n",
       "  </tbody>\n",
       "</table>\n",
       "</div>"
      ],
      "text/plain": [
       "              Car_Name  Year  Selling_Price  Price  Kms_Driven Fuel_Type  \\\n",
       "35                 sx4  2011           2.95   7.74       49998       CNG   \n",
       "157  Yamaha FZ S V 2.0  2015           0.48   0.84       23000    Petrol   \n",
       "218              verna  2014           6.45   9.40       45078    Petrol   \n",
       "32               swift  2014           4.95   7.49       39000    Diesel   \n",
       "237              creta  2015          11.25  13.60       68000    Diesel   \n",
       "216                eon  2016           2.90   4.43       12500    Petrol   \n",
       "39                 sx4  2003           2.25   7.98       62000    Petrol   \n",
       "206              xcent  2017           5.75   7.13       12479    Petrol   \n",
       "186           TVS Wego  2010           0.25   0.52       22000    Petrol   \n",
       "165          Activa 3g  2016           0.45   0.54         500    Petrol   \n",
       "\n",
       "    Seller_Type Transmission  Owner  \n",
       "35       Dealer       Manual      1  \n",
       "157  Individual       Manual      1  \n",
       "218      Dealer       Manual      1  \n",
       "32       Dealer       Manual      1  \n",
       "237      Dealer       Manual      1  \n",
       "216      Dealer       Manual      1  \n",
       "39       Dealer       Manual      1  \n",
       "206      Dealer       Manual      1  \n",
       "186  Individual    Automatic      1  \n",
       "165  Individual    Automatic      1  "
      ]
     },
     "execution_count": 5,
     "metadata": {},
     "output_type": "execute_result"
    }
   ],
   "source": [
    "train_data.sample(10)"
   ]
  },
  {
   "cell_type": "code",
   "execution_count": 6,
   "metadata": {},
   "outputs": [],
   "source": [
    "y = train_data['Selling_Price'].copy()"
   ]
  },
  {
   "cell_type": "markdown",
   "metadata": {},
   "source": [
    "### Dependent Variable 1 : Selling Price"
   ]
  },
  {
   "cell_type": "code",
   "execution_count": 7,
   "metadata": {},
   "outputs": [
    {
     "data": {
      "text/plain": [
       "count    240.000000\n",
       "mean       4.654667\n",
       "std        5.109364\n",
       "min        0.100000\n",
       "25%        0.937500\n",
       "50%        3.500000\n",
       "75%        6.037500\n",
       "max       35.000000\n",
       "Name: Selling_Price, dtype: float64"
      ]
     },
     "execution_count": 7,
     "metadata": {},
     "output_type": "execute_result"
    }
   ],
   "source": [
    "y.describe()"
   ]
  },
  {
   "cell_type": "code",
   "execution_count": 8,
   "metadata": {},
   "outputs": [
    {
     "data": {
      "image/png": "[encoded data removed]",
      "text/plain": [
       "<Figure size 720x432 with 1 Axes>"
      ]
     },
     "metadata": {},
     "output_type": "display_data"
    }
   ],
   "source": [
    "plt.figure(figsize=(10,6))\n",
    "\n",
    "y.plot.hist(grid=True, bins=20, rwidth=0.9,color='#607c8e')\n",
    "plt.title('selling Price of Used Vehicles')\n",
    "plt.xlabel('Selling Price')\n",
    "plt.ylabel('Frequency')\n",
    "plt.grid(axis='y', alpha=0.75)"
   ]
  },
  {
   "cell_type": "code",
   "execution_count": 9,
   "metadata": {},
   "outputs": [],
   "source": [
    "log_y = np.log(y)"
   ]
  },
  {
   "cell_type": "code",
   "execution_count": 10,
   "metadata": {},
   "outputs": [
    {
     "data": {
      "image/png": "[encoded data removed]",
      "text/plain": [
       "<Figure size 720x432 with 1 Axes>"
      ]
     },
     "metadata": {},
     "output_type": "display_data"
    }
   ],
   "source": [
    "plt.figure(figsize=(10,6))\n",
    "\n",
    "log_y.plot.hist(grid=True, bins=20, rwidth=0.9,color='#607c8e')\n",
    "plt.title('selling Price of Used Vehicles')\n",
    "plt.xlabel('Selling Price')\n",
    "plt.ylabel('Frequency')\n",
    "plt.grid(axis='y', alpha=0.75)"
   ]
  },
  {
   "cell_type": "code",
   "execution_count": 11,
   "metadata": {},
   "outputs": [
    {
     "data": {
      "text/plain": [
       "<matplotlib.axes._subplots.AxesSubplot at 0x3a92e29860>"
      ]
     },
     "execution_count": 11,
     "metadata": {},
     "output_type": "execute_result"
    },
    {
     "data": {
      "image/png": "[encoded data removed]",
      "text/plain": [
       "<Figure size 720x144 with 1 Axes>"
      ]
     },
     "metadata": {},
     "output_type": "display_data"
    }
   ],
   "source": [
    "plt.figure(figsize=(10,2))\n",
    "sns.boxplot(log_y, palette=\"Blues\")"
   ]
  },
  {
   "cell_type": "markdown",
   "metadata": {},
   "source": [
    "### Independent Variable 1 : Car_Name\n",
    "\n",
    "1. Has high cardinality. \n",
    "2. Need to transform using external knowledge - like 2 wheelers / 4 wheelers or Categories sedan, van etc\n",
    "\n",
    "-----------------------------------------------------------------------------------------------------------\n",
    "\n",
    "Not to be considered in v1."
   ]
  },
  {
   "cell_type": "code",
   "execution_count": 12,
   "metadata": {},
   "outputs": [
    {
     "data": {
      "text/plain": [
       "count      240\n",
       "unique      87\n",
       "top       city\n",
       "freq        22\n",
       "Name: Car_Name, dtype: object"
      ]
     },
     "execution_count": 12,
     "metadata": {},
     "output_type": "execute_result"
    }
   ],
   "source": [
    "Car_Name_train = train_data['Car_Name']\n",
    "Car_Name_train.describe()"
   ]
  },
  {
   "cell_type": "code",
   "execution_count": 13,
   "metadata": {},
   "outputs": [
    {
     "data": {
      "text/plain": [
       "count                61\n",
       "unique               38\n",
       "top       corolla altis\n",
       "freq                  5\n",
       "Name: Car_Name, dtype: object"
      ]
     },
     "execution_count": 13,
     "metadata": {},
     "output_type": "execute_result"
    }
   ],
   "source": [
    "Car_Name_test = test_data['Car_Name']\n",
    "Car_Name_test.describe()"
   ]
  },
  {
   "cell_type": "code",
   "execution_count": 14,
   "metadata": {},
   "outputs": [
    {
     "data": {
      "text/plain": [
       "city                         22\n",
       "verna                        12\n",
       "corolla altis                11\n",
       "brio                          8\n",
       "i20                           7\n",
       "ciaz                          7\n",
       "innova                        7\n",
       "fortuner                      7\n",
       "Royal Enfield Classic 350     6\n",
       "sx4                           6\n",
       "Name: Car_Name, dtype: int64"
      ]
     },
     "execution_count": 14,
     "metadata": {},
     "output_type": "execute_result"
    }
   ],
   "source": [
    "Car_Name_train.value_counts()[:10]"
   ]
  },
  {
   "cell_type": "code",
   "execution_count": 15,
   "metadata": {},
   "outputs": [
    {
     "data": {
      "text/plain": [
       "corolla altis                5\n",
       "city                         4\n",
       "fortuner                     4\n",
       "amaze                        3\n",
       "Royal Enfield Thunder 500    2\n",
       "ciaz                         2\n",
       "verna                        2\n",
       "brio                         2\n",
       "ritz                         2\n",
       "Honda Activa 4G              2\n",
       "Name: Car_Name, dtype: int64"
      ]
     },
     "execution_count": 15,
     "metadata": {},
     "output_type": "execute_result"
    }
   ],
   "source": [
    "Car_Name_test.value_counts()[:10]"
   ]
  },
  {
   "cell_type": "markdown",
   "metadata": {},
   "source": [
    "### Independent Variable 1 : Year\n",
    "\n",
    "1. Transform this variable to no. of years used more interpretable.\n",
    "2. There are 4 data points from year 2003-2004 and 2018 which can be considered as outliers"
   ]
  },
  {
   "cell_type": "code",
   "execution_count": 16,
   "metadata": {},
   "outputs": [
    {
     "data": {
      "text/plain": [
       "count     240.000000\n",
       "mean     2013.645833\n",
       "std         2.912170\n",
       "min      2003.000000\n",
       "25%      2012.000000\n",
       "50%      2014.000000\n",
       "75%      2016.000000\n",
       "max      2018.000000\n",
       "Name: Year, dtype: float64"
      ]
     },
     "execution_count": 16,
     "metadata": {},
     "output_type": "execute_result"
    }
   ],
   "source": [
    "Year_train = train_data['Year']\n",
    "Year_train.describe()"
   ]
  },
  {
   "cell_type": "code",
   "execution_count": 17,
   "metadata": {},
   "outputs": [
    {
     "data": {
      "text/plain": [
       "count      61.000000\n",
       "mean     2013.557377\n",
       "std         2.831517\n",
       "min      2005.000000\n",
       "25%      2012.000000\n",
       "50%      2014.000000\n",
       "75%      2015.000000\n",
       "max      2017.000000\n",
       "Name: Year, dtype: float64"
      ]
     },
     "execution_count": 17,
     "metadata": {},
     "output_type": "execute_result"
    }
   ],
   "source": [
    "Year_test = test_data['Year']\n",
    "Year_test.describe()"
   ]
  },
  {
   "cell_type": "code",
   "execution_count": 18,
   "metadata": {},
   "outputs": [],
   "source": [
    "Years_used_train = 2018 - Year_train\n",
    "Years_used_test = 2018 - Year_test"
   ]
  },
  {
   "cell_type": "code",
   "execution_count": 19,
   "metadata": {},
   "outputs": [
    {
     "data": {
      "image/png": "[encoded data removed]",
      "text/plain": [
       "<Figure size 1440x360 with 2 Axes>"
      ]
     },
     "metadata": {},
     "output_type": "display_data"
    }
   ],
   "source": [
    "fig, ax = plt.subplots(figsize=(20,5), ncols=2, nrows=1)\n",
    "\n",
    "Year_train.plot.hist(grid=True, bins=20, rwidth=0.9,color='#607c8e', ax=ax[0])\n",
    "ax[0].set_title('Train data')\n",
    "ax[0].set_xlabel('year')\n",
    "ax[0].set_ylabel('Frequency')\n",
    "ax[0].grid(axis='y', alpha=0.75)\n",
    "\n",
    "Year_test.plot.hist(grid=True, bins=20, rwidth=0.9,color='#607c8e', ax=ax[1])\n",
    "ax[1].set_title('Test data')\n",
    "ax[1].set_xlabel('year')\n",
    "ax[1].set_ylabel('Frequency')\n",
    "ax[1].grid(axis='y', alpha=0.75)\n",
    "\n",
    "\n",
    "plt.tight_layout()"
   ]
  },
  {
   "cell_type": "code",
   "execution_count": 20,
   "metadata": {},
   "outputs": [
    {
     "data": {
      "image/png": "[encoded data removed]",
      "text/plain": [
       "<Figure size 1440x360 with 2 Axes>"
      ]
     },
     "metadata": {},
     "output_type": "display_data"
    }
   ],
   "source": [
    "fig, ax = plt.subplots(figsize=(20,5), ncols=2, nrows=1)\n",
    "\n",
    "sns.boxplot(x=Year_train, y=y, ax=ax[0])\n",
    "ax[0].set_title('Train data')\n",
    "ax[0].set_xlabel('year')\n",
    "ax[0].set_ylabel('Frequency')\n",
    "ax[0].grid(axis='y', alpha=0.75)\n",
    "\n",
    "sns.boxplot(x=Year_test, ax=ax[1])\n",
    "ax[1].set_title('Test data')\n",
    "ax[1].set_xlabel('year')\n",
    "ax[1].set_ylabel('Frequency')\n",
    "ax[1].grid(axis='y', alpha=0.75)\n",
    "\n",
    "\n",
    "plt.tight_layout()"
   ]
  },
  {
   "cell_type": "code",
   "execution_count": 21,
   "metadata": {},
   "outputs": [
    {
     "data": {
      "text/plain": [
       "5     2018\n",
       "39    2003\n",
       "37    2003\n",
       "77    2004\n",
       "Name: Year, dtype: int64"
      ]
     },
     "execution_count": 21,
     "metadata": {},
     "output_type": "execute_result"
    }
   ],
   "source": [
    "Year_train[(Year_train < 2005) | (Year_train > 2017)]"
   ]
  },
  {
   "cell_type": "markdown",
   "metadata": {},
   "source": [
    "### Independent Variable 2 : Price ~ Original Price\n",
    "\n",
    "1. There is an outlier in Training data\n",
    "2. Log of price shows mixture of two districutions \n",
    "\n",
    "-------------------------------------------------------------------------------------------------------\n",
    "Remove Price Outlier\n",
    "use Log of Price"
   ]
  },
  {
   "cell_type": "code",
   "execution_count": 22,
   "metadata": {},
   "outputs": [
    {
     "data": {
      "text/plain": [
       "count    240.000000\n",
       "mean       7.655887\n",
       "std        8.980079\n",
       "min        0.320000\n",
       "25%        1.245000\n",
       "50%        6.010000\n",
       "75%        9.900000\n",
       "max       92.600000\n",
       "Name: Price, dtype: float64"
      ]
     },
     "execution_count": 22,
     "metadata": {},
     "output_type": "execute_result"
    }
   ],
   "source": [
    "Price_train = train_data['Price']\n",
    "Price_train.describe()"
   ]
  },
  {
   "cell_type": "code",
   "execution_count": 23,
   "metadata": {},
   "outputs": [
    {
     "data": {
      "text/plain": [
       "count    61.000000\n",
       "mean      7.520607\n",
       "std       7.236405\n",
       "min       0.510000\n",
       "25%       1.200000\n",
       "50%       6.790000\n",
       "75%       9.400000\n",
       "max      30.610000\n",
       "Name: Price, dtype: float64"
      ]
     },
     "execution_count": 23,
     "metadata": {},
     "output_type": "execute_result"
    }
   ],
   "source": [
    "Price_test = test_data['Price']\n",
    "Price_test.describe()"
   ]
  },
  {
   "cell_type": "code",
   "execution_count": 24,
   "metadata": {},
   "outputs": [
    {
     "data": {
      "image/png": "[encoded data removed]",
      "text/plain": [
       "<Figure size 1440x360 with 2 Axes>"
      ]
     },
     "metadata": {},
     "output_type": "display_data"
    }
   ],
   "source": [
    "fig, ax = plt.subplots(figsize=(20,5), ncols=2, nrows=1)\n",
    "\n",
    "Price_train.plot.hist(grid=True, bins=20, rwidth=0.9,color='#607c8e', ax=ax[0])\n",
    "ax[0].set_title('Train data')\n",
    "ax[0].set_xlabel('Price')\n",
    "ax[0].set_ylabel('Frequency')\n",
    "ax[0].grid(axis='y', alpha=0.75)\n",
    "\n",
    "Price_test.plot.hist(grid=True, bins=20, rwidth=0.9,color='#607c8e', ax=ax[1])\n",
    "ax[1].set_title('Test data')\n",
    "ax[1].set_xlabel('Price')\n",
    "ax[1].set_ylabel('Frequency')\n",
    "ax[1].grid(axis='y', alpha=0.75)\n",
    "\n",
    "\n",
    "plt.tight_layout()"
   ]
  },
  {
   "cell_type": "code",
   "execution_count": 25,
   "metadata": {},
   "outputs": [
    {
     "data": {
      "text/plain": [
       "86    92.6\n",
       "Name: Price, dtype: float64"
      ]
     },
     "execution_count": 25,
     "metadata": {},
     "output_type": "execute_result"
    }
   ],
   "source": [
    "Price_train[Price_train >40]"
   ]
  },
  {
   "cell_type": "code",
   "execution_count": 26,
   "metadata": {},
   "outputs": [],
   "source": [
    "log_Price_train = np.log(Price_train[Price_train < 40])\n",
    "log_Price_test = np.log(Price_test)"
   ]
  },
  {
   "cell_type": "code",
   "execution_count": 27,
   "metadata": {},
   "outputs": [
    {
     "data": {
      "image/png": "[encoded data removed]",
      "text/plain": [
       "<Figure size 1440x360 with 2 Axes>"
      ]
     },
     "metadata": {},
     "output_type": "display_data"
    }
   ],
   "source": [
    "fig, ax = plt.subplots(figsize=(20,5), ncols=2, nrows=1)\n",
    "\n",
    "log_Price_train.plot.hist(grid=True, bins=20, rwidth=0.9,color='#607c8e', ax=ax[0])\n",
    "ax[0].set_title('Train data')\n",
    "ax[0].set_xlabel('Log Price')\n",
    "ax[0].set_ylabel('Frequency')\n",
    "ax[0].grid(axis='y', alpha=0.75)\n",
    "\n",
    "log_Price_test.plot.hist(grid=True, bins=20, rwidth=0.9,color='#607c8e', ax=ax[1])\n",
    "ax[1].set_title('Test data')\n",
    "ax[1].set_xlabel('Log Price')\n",
    "ax[1].set_ylabel('Frequency')\n",
    "ax[1].grid(axis='y', alpha=0.75)\n",
    "\n",
    "\n",
    "plt.tight_layout()"
   ]
  },
  {
   "cell_type": "code",
   "execution_count": 28,
   "metadata": {},
   "outputs": [
    {
     "data": {
      "image/png": "[encoded data removed]",
      "text/plain": [
       "<Figure size 1440x360 with 2 Axes>"
      ]
     },
     "metadata": {},
     "output_type": "display_data"
    }
   ],
   "source": [
    "fig, ax = plt.subplots(figsize=(20,5), ncols=2, nrows=1)\n",
    "\n",
    "ax[0].scatter(Price_train, y, s=200, c=\"blue\", alpha=0.75, marker='.',label='Price')\n",
    "ax[0].set_title('Price vs Selling Price')\n",
    "ax[0].set_xlabel('Price')\n",
    "ax[0].set_ylabel('Selling Price')\n",
    "\n",
    "ax[1].scatter(np.log(Price_train), log_y, s=200, c=\"blue\", alpha=0.75, marker='.',label='Price')\n",
    "ax[1].set_title('Log Price vs Selling Price')\n",
    "ax[1].set_xlabel('Log Price')\n",
    "ax[1].set_ylabel('Selling Price')\n",
    "\n",
    "plt.tight_layout()"
   ]
  },
  {
   "cell_type": "markdown",
   "metadata": {},
   "source": [
    "### Independent Variable 3 : Kms_Driven\n",
    "\n",
    "1. Does not look very correlated variable\n",
    "2. no log required\n",
    "3. possibility of removing outliers above 100000km > 200000km > 300000km\n",
    "4. New relevant feature could be Kms_Driven/Year"
   ]
  },
  {
   "cell_type": "code",
   "execution_count": 29,
   "metadata": {},
   "outputs": [
    {
     "data": {
      "text/plain": [
       "count       240.000000\n",
       "mean      37713.616667\n",
       "std       42185.628567\n",
       "min         500.000000\n",
       "25%       15000.000000\n",
       "50%       32000.000000\n",
       "75%       49671.000000\n",
       "max      500000.000000\n",
       "Name: Kms_Driven, dtype: float64"
      ]
     },
     "execution_count": 29,
     "metadata": {},
     "output_type": "execute_result"
    }
   ],
   "source": [
    "Kms_Driven_train = train_data['Kms_Driven']\n",
    "Kms_Driven_train.describe()"
   ]
  },
  {
   "cell_type": "code",
   "execution_count": 30,
   "metadata": {},
   "outputs": [
    {
     "data": {
      "text/plain": [
       "count       61.000000\n",
       "mean     33931.819672\n",
       "std      21459.414616\n",
       "min       1900.000000\n",
       "25%      17000.000000\n",
       "50%      32000.000000\n",
       "75%      45000.000000\n",
       "max      90000.000000\n",
       "Name: Kms_Driven, dtype: float64"
      ]
     },
     "execution_count": 30,
     "metadata": {},
     "output_type": "execute_result"
    }
   ],
   "source": [
    "Kms_Driven_test = test_data['Kms_Driven']\n",
    "Kms_Driven_test.describe()"
   ]
  },
  {
   "cell_type": "code",
   "execution_count": 31,
   "metadata": {},
   "outputs": [
    {
     "data": {
      "image/png": "[encoded data removed]",
      "text/plain": [
       "<Figure size 1440x360 with 2 Axes>"
      ]
     },
     "metadata": {},
     "output_type": "display_data"
    }
   ],
   "source": [
    "fig, ax = plt.subplots(figsize=(20,5), ncols=2, nrows=1)\n",
    "\n",
    "Kms_Driven_train.plot.hist(grid=True, bins=20, rwidth=0.9,color='#607c8e', ax=ax[0])\n",
    "ax[0].set_title('Train data')\n",
    "ax[0].set_xlabel('Kms Driven')\n",
    "ax[0].set_ylabel('Frequency')\n",
    "ax[0].grid(axis='y', alpha=0.75)\n",
    "\n",
    "Kms_Driven_test.plot.hist(grid=True, bins=20, rwidth=0.9,color='#607c8e', ax=ax[1])\n",
    "ax[1].set_title('Test data')\n",
    "ax[1].set_xlabel('Kms Driven')\n",
    "ax[1].set_ylabel('Frequency')\n",
    "ax[1].grid(axis='y', alpha=0.75)\n",
    "\n",
    "\n",
    "plt.tight_layout()"
   ]
  },
  {
   "cell_type": "code",
   "execution_count": 32,
   "metadata": {},
   "outputs": [
    {
     "data": {
      "text/plain": [
       "196    500000\n",
       "84     197176\n",
       "37     127000\n",
       "77     135154\n",
       "50     104707\n",
       "53     135000\n",
       "85     142000\n",
       "179    213000\n",
       "Name: Kms_Driven, dtype: int64"
      ]
     },
     "execution_count": 32,
     "metadata": {},
     "output_type": "execute_result"
    }
   ],
   "source": [
    "Kms_Driven_train[Kms_Driven_train > 100000]"
   ]
  },
  {
   "cell_type": "code",
   "execution_count": 33,
   "metadata": {},
   "outputs": [],
   "source": [
    "Kms_Driven_train_no = Kms_Driven_train[Kms_Driven_train < 100000]"
   ]
  },
  {
   "cell_type": "code",
   "execution_count": 34,
   "metadata": {},
   "outputs": [
    {
     "data": {
      "image/png": "[encoded data removed]",
      "text/plain": [
       "<Figure size 1440x360 with 2 Axes>"
      ]
     },
     "metadata": {},
     "output_type": "display_data"
    }
   ],
   "source": [
    "fig, ax = plt.subplots(figsize=(20,5), ncols=2, nrows=1)\n",
    "\n",
    "Kms_Driven_train_no.plot.hist(grid=True, bins=20, rwidth=0.9,color='#607c8e', ax=ax[0])\n",
    "ax[0].set_title('Train data')\n",
    "ax[0].set_xlabel('Kms Driven')\n",
    "ax[0].set_ylabel('Frequency')\n",
    "ax[0].grid(axis='y', alpha=0.75)\n",
    "\n",
    "Kms_Driven_test.plot.hist(grid=True, bins=20, rwidth=0.9,color='#607c8e', ax=ax[1])\n",
    "ax[1].set_title('Test data')\n",
    "ax[1].set_xlabel('Kms Driven')\n",
    "ax[1].set_ylabel('Frequency')\n",
    "ax[1].grid(axis='y', alpha=0.75)\n",
    "\n",
    "\n",
    "plt.tight_layout()"
   ]
  },
  {
   "cell_type": "code",
   "execution_count": 35,
   "metadata": {},
   "outputs": [
    {
     "data": {
      "image/png": "[encoded data removed]",
      "text/plain": [
       "<Figure size 1440x360 with 2 Axes>"
      ]
     },
     "metadata": {},
     "output_type": "display_data"
    }
   ],
   "source": [
    "fig, ax = plt.subplots(figsize=(20,5), ncols=2, nrows=1)\n",
    "\n",
    "ax[0].scatter(Kms_Driven_train, log_y, s=200, c=\"blue\", alpha=0.75, marker='.',label='Price')\n",
    "ax[0].set_title('Kms Driven vs Selling Price')\n",
    "ax[0].set_xlabel('Kms Driven')\n",
    "ax[0].set_ylabel('Selling Price')\n",
    "\n",
    "ax[1].scatter(np.log(Kms_Driven_train), log_y, s=200, c=\"blue\", alpha=0.75, marker='.',label='Price')\n",
    "ax[1].set_title('Kms Driven vs Selling Price')\n",
    "ax[1].set_xlabel('Kms Driven')\n",
    "ax[1].set_ylabel('Selling Price')\n",
    "\n",
    "plt.tight_layout()"
   ]
  },
  {
   "cell_type": "markdown",
   "metadata": {},
   "source": [
    "### Independent Variable 4: Fuel Type\n",
    "\n",
    "1. Fuel Type CNG has only 2 observations. Keep this as low impact\n",
    "2. Diesel has higher price than Petrol\n",
    "------------------------------------------------------------------------------------------\n",
    "1. Encode Diesel = 10 and Petrol = 5 and CNG = 6 \n",
    "2.  Encode as Dummy variables"
   ]
  },
  {
   "cell_type": "code",
   "execution_count": 36,
   "metadata": {},
   "outputs": [
    {
     "data": {
      "text/plain": [
       "Petrol    192\n",
       "Diesel     46\n",
       "CNG         2\n",
       "Name: Fuel_Type, dtype: int64"
      ]
     },
     "execution_count": 36,
     "metadata": {},
     "output_type": "execute_result"
    }
   ],
   "source": [
    "Fuel_type_train = train_data['Fuel_Type']\n",
    "Fuel_type_train.value_counts()"
   ]
  },
  {
   "cell_type": "code",
   "execution_count": 37,
   "metadata": {},
   "outputs": [
    {
     "data": {
      "text/plain": [
       "Petrol    47\n",
       "Diesel    14\n",
       "Name: Fuel_Type, dtype: int64"
      ]
     },
     "execution_count": 37,
     "metadata": {},
     "output_type": "execute_result"
    }
   ],
   "source": [
    "Fuel_type_test = test_data['Fuel_Type']\n",
    "Fuel_type_test.value_counts()"
   ]
  },
  {
   "cell_type": "code",
   "execution_count": 38,
   "metadata": {},
   "outputs": [
    {
     "data": {
      "text/plain": [
       "Text(0,0.5,'Selling Price')"
      ]
     },
     "execution_count": 38,
     "metadata": {},
     "output_type": "execute_result"
    },
    {
     "data": {
      "image/png": "[encoded data removed]",
      "text/plain": [
       "<Figure size 720x360 with 1 Axes>"
      ]
     },
     "metadata": {},
     "output_type": "display_data"
    }
   ],
   "source": [
    "plt.figure(figsize=(10,5))\n",
    "\n",
    "sns.boxplot(x=Fuel_type_train, y=y)\n",
    "plt.title('Train data')\n",
    "plt.xlabel('Fuel Type')\n",
    "plt.ylabel('Selling Price')"
   ]
  },
  {
   "cell_type": "code",
   "execution_count": 39,
   "metadata": {},
   "outputs": [
    {
     "data": {
      "image/png": "[encoded data removed]",
      "text/plain": [
       "<Figure size 1440x360 with 2 Axes>"
      ]
     },
     "metadata": {},
     "output_type": "display_data"
    }
   ],
   "source": [
    "fig, ax = plt.subplots(figsize=(20,5), ncols=2, nrows=1)\n",
    "\n",
    "sns.boxplot(x=Fuel_type_train, y=Price_train, ax=ax[0])\n",
    "ax[0].set_title('Train data')\n",
    "ax[0].set_xlabel('Fuel Type')\n",
    "ax[0].set_ylabel('Price')\n",
    "ax[0].set_ylim(0,40)\n",
    "ax[0].grid(axis='y', alpha=0.75)\n",
    "\n",
    "sns.boxplot(x=Fuel_type_test, y=Price_test, ax=ax[1])\n",
    "ax[1].set_title('Test data')\n",
    "ax[1].set_xlabel('Fuel Type')\n",
    "ax[1].set_ylabel('Price')\n",
    "ax[1].set_ylim(0,40)\n",
    "ax[1].grid(axis='y', alpha=0.75)\n",
    "\n",
    "\n",
    "plt.tight_layout()"
   ]
  },
  {
   "cell_type": "markdown",
   "metadata": {},
   "source": [
    "### Independent Variable 5: Seller Type\n",
    "\n",
    "1. Dealer have higher prices\n",
    "--------------------------------------------------------------------------------\n",
    "Encode seller type as dummy variable."
   ]
  },
  {
   "cell_type": "code",
   "execution_count": 40,
   "metadata": {},
   "outputs": [
    {
     "data": {
      "text/plain": [
       "Dealer        156\n",
       "Individual     84\n",
       "Name: Seller_Type, dtype: int64"
      ]
     },
     "execution_count": 40,
     "metadata": {},
     "output_type": "execute_result"
    }
   ],
   "source": [
    "Seller_type_train = train_data['Seller_Type']\n",
    "Seller_type_train.value_counts()"
   ]
  },
  {
   "cell_type": "code",
   "execution_count": 41,
   "metadata": {},
   "outputs": [
    {
     "data": {
      "text/plain": [
       "Dealer        39\n",
       "Individual    22\n",
       "Name: Seller_Type, dtype: int64"
      ]
     },
     "execution_count": 41,
     "metadata": {},
     "output_type": "execute_result"
    }
   ],
   "source": [
    "Seller_type_test = test_data['Seller_Type']\n",
    "Seller_type_test.value_counts()"
   ]
  },
  {
   "cell_type": "code",
   "execution_count": 42,
   "metadata": {},
   "outputs": [
    {
     "data": {
      "image/png": "[encoded data removed]",
      "text/plain": [
       "<Figure size 1440x360 with 2 Axes>"
      ]
     },
     "metadata": {},
     "output_type": "display_data"
    }
   ],
   "source": [
    "fig, ax = plt.subplots(figsize=(20,5), ncols=2, nrows=1)\n",
    "color_dict = {'Dealer':'blue', 'Individual':'brown'}\n",
    "\n",
    "sns.boxplot(x=Seller_type_train, y=Price_train,palette=color_dict,ax=ax[0])\n",
    "ax[0].set_title('Train data')\n",
    "ax[0].set_xlabel('Seller Type')\n",
    "ax[0].set_ylabel('Price')\n",
    "ax[0].set_ylim(0,40)\n",
    "ax[0].grid(axis='y', alpha=0.75)\n",
    "\n",
    "sns.boxplot(x=Seller_type_test, y=Price_test, palette=color_dict, ax=ax[1])\n",
    "ax[1].set_title('Test data')\n",
    "ax[1].set_xlabel('Seller Type')\n",
    "ax[1].set_ylabel('Price')\n",
    "ax[1].set_ylim(0,40)\n",
    "ax[1].grid(axis='y', alpha=0.75)\n",
    "\n",
    "\n",
    "plt.tight_layout()"
   ]
  },
  {
   "cell_type": "markdown",
   "metadata": {},
   "source": [
    "### Independent Variable 6: Transmission\n",
    "\n",
    "1. Automatic has different relationship in Test and Train. There may be another influnce on Price when considering transmission\n",
    "\n",
    "--------------------------------------------------------------------------------------------------------------------------------\n",
    "1. Do not consider this in V1 model"
   ]
  },
  {
   "cell_type": "code",
   "execution_count": 43,
   "metadata": {},
   "outputs": [
    {
     "data": {
      "text/plain": [
       "Manual       212\n",
       "Automatic     28\n",
       "Name: Transmission, dtype: int64"
      ]
     },
     "execution_count": 43,
     "metadata": {},
     "output_type": "execute_result"
    }
   ],
   "source": [
    "Transmission_train = train_data['Transmission']\n",
    "Transmission_train.value_counts()"
   ]
  },
  {
   "cell_type": "code",
   "execution_count": 44,
   "metadata": {},
   "outputs": [
    {
     "data": {
      "text/plain": [
       "Manual       49\n",
       "Automatic    12\n",
       "Name: Transmission, dtype: int64"
      ]
     },
     "execution_count": 44,
     "metadata": {},
     "output_type": "execute_result"
    }
   ],
   "source": [
    "Transmission_test = test_data['Transmission']\n",
    "Transmission_test.value_counts()"
   ]
  },
  {
   "cell_type": "code",
   "execution_count": 45,
   "metadata": {},
   "outputs": [
    {
     "data": {
      "image/png": "[encoded data removed]",
      "text/plain": [
       "<Figure size 1440x360 with 2 Axes>"
      ]
     },
     "metadata": {},
     "output_type": "display_data"
    }
   ],
   "source": [
    "fig, ax = plt.subplots(figsize=(20,5), ncols=2, nrows=1)\n",
    "color_dict = {'Manual':'cyan', 'Automatic':'orange'}\n",
    "\n",
    "sns.boxplot(x=Transmission_train, y=Price_train,palette=color_dict,ax=ax[0])\n",
    "ax[0].set_title('Train data')\n",
    "ax[0].set_xlabel('Transmission')\n",
    "ax[0].set_ylabel('Price')\n",
    "ax[0].set_ylim(0,40)\n",
    "ax[0].grid(axis='y', alpha=0.75)\n",
    "\n",
    "sns.boxplot(x=Transmission_test, y=Price_test, palette=color_dict, ax=ax[1])\n",
    "ax[1].set_title('Test data')\n",
    "ax[1].set_xlabel('Transmission')\n",
    "ax[1].set_ylabel('Price')\n",
    "ax[1].set_ylim(0,40)\n",
    "ax[1].grid(axis='y', alpha=0.75)\n",
    "\n",
    "\n",
    "plt.tight_layout()"
   ]
  },
  {
   "cell_type": "markdown",
   "metadata": {},
   "source": [
    "### Independent Variable 7: Owner\n",
    "\n",
    "1. Less Variability. May encode as single owner vs multiple owners.\n",
    "--------------------------------------------------------------------------------------------------------\n",
    "1. Exclude it in model v1"
   ]
  },
  {
   "cell_type": "code",
   "execution_count": 46,
   "metadata": {},
   "outputs": [
    {
     "data": {
      "text/plain": [
       "1    231\n",
       "2      8\n",
       "4      1\n",
       "Name: Owner, dtype: int64"
      ]
     },
     "execution_count": 46,
     "metadata": {},
     "output_type": "execute_result"
    }
   ],
   "source": [
    "Owner_train = train_data['Owner']\n",
    "Owner_train.value_counts()"
   ]
  },
  {
   "cell_type": "code",
   "execution_count": 47,
   "metadata": {},
   "outputs": [
    {
     "data": {
      "text/plain": [
       "1    59\n",
       "2     2\n",
       "Name: Owner, dtype: int64"
      ]
     },
     "execution_count": 47,
     "metadata": {},
     "output_type": "execute_result"
    }
   ],
   "source": [
    "Owner_test = test_data['Owner']\n",
    "Owner_test.value_counts()"
   ]
  },
  {
   "cell_type": "code",
   "execution_count": 48,
   "metadata": {},
   "outputs": [
    {
     "data": {
      "image/png": "[encoded data removed]",
      "text/plain": [
       "<Figure size 1440x360 with 2 Axes>"
      ]
     },
     "metadata": {},
     "output_type": "display_data"
    }
   ],
   "source": [
    "fig, ax = plt.subplots(figsize=(20,5), ncols=2, nrows=1)\n",
    "color_dict = {1:'cyan', 2:'orange', 4:'blue'}\n",
    "\n",
    "sns.boxplot(x=Owner_train, y=Price_train,palette=color_dict,ax=ax[0])\n",
    "ax[0].set_title('Train data')\n",
    "ax[0].set_xlabel('Owner')\n",
    "ax[0].set_ylabel('Price')\n",
    "ax[0].set_ylim(0,40)\n",
    "ax[0].grid(axis='y', alpha=0.75)\n",
    "\n",
    "sns.boxplot(x=Owner_test, y=Price_test, palette=color_dict, ax=ax[1])\n",
    "ax[1].set_title('Test data')\n",
    "ax[1].set_xlabel('Owner')\n",
    "ax[1].set_ylabel('Price')\n",
    "ax[1].set_ylim(0,40)\n",
    "ax[1].grid(axis='y', alpha=0.75)\n",
    "\n",
    "\n",
    "plt.tight_layout()"
   ]
  },
  {
   "cell_type": "markdown",
   "metadata": {},
   "source": [
    "## Correlation"
   ]
  },
  {
   "cell_type": "code",
   "execution_count": 49,
   "metadata": {},
   "outputs": [
    {
     "data": {
      "text/plain": [
       "<matplotlib.axes._subplots.AxesSubplot at 0x3a9399cf28>"
      ]
     },
     "execution_count": 49,
     "metadata": {},
     "output_type": "execute_result"
    },
    {
     "data": {
      "image/png": "[encoded data removed]",
      "text/plain": [
       "<Figure size 648x432 with 2 Axes>"
      ]
     },
     "metadata": {},
     "output_type": "display_data"
    }
   ],
   "source": [
    "train_data_num = train_data[['Year','Price','Kms_Driven']].copy()\n",
    "corr = train_data_num.corr()\n",
    "mask = np.zeros_like(corr, dtype=np.bool)\n",
    "mask[np.triu_indices_from(mask)] = True\n",
    "\n",
    "f, ax = plt.subplots(figsize=(9, 6))\n",
    "\n",
    "cmap = sns.diverging_palette(220, 10, as_cmap=True)\n",
    "sns.heatmap(corr, mask=mask, cmap=cmap, vmax=.3, center=0,\n",
    "            square=True, linewidths=.5, cbar_kws={\"shrink\": .5})"
   ]
  },
  {
   "cell_type": "markdown",
   "metadata": {},
   "source": [
    "## Model V Base\n",
    "1. Independent Variables = log('Price')\n",
    "2. Dependent Variable = log('Selling_Price')\n",
    "3. Simple Linear Regression"
   ]
  },
  {
   "cell_type": "code",
   "execution_count": 50,
   "metadata": {},
   "outputs": [
    {
     "name": "stdout",
     "output_type": "stream",
     "text": [
      "[0.69656221 0.66639626 0.76126429 0.73601195]\n",
      "Accuracy: 0.72 (+/- 0.07)\n"
     ]
    }
   ],
   "source": [
    "X = train_data['Price'].values.reshape(-1, 1)\n",
    "y = train_data['Selling_Price']\n",
    "\n",
    "reg = LinearRegression()\n",
    "scores = cross_val_score(reg, X, y, cv=4, scoring='r2')\n",
    "\n",
    "print(scores)\n",
    "print(\"Accuracy: %0.2f (+/- %0.2f)\" % (scores.mean(), scores.std() * 2))"
   ]
  },
  {
   "cell_type": "code",
   "execution_count": 51,
   "metadata": {},
   "outputs": [
    {
     "name": "stdout",
     "output_type": "stream",
     "text": [
      "[0.91434229 0.86749722 0.90012638 0.88527679]\n",
      "Accuracy: 0.89 (+/- 0.03)\n"
     ]
    }
   ],
   "source": [
    "X = np.log(train_data['Price']).values.reshape(-1, 1)\n",
    "y = np.log(train_data['Selling_Price'])\n",
    "\n",
    "reg = LinearRegression()\n",
    "scores = cross_val_score(reg, X, y, cv=4, scoring='r2')\n",
    "\n",
    "print(scores)\n",
    "print(\"Accuracy: %0.2f (+/- %0.2f)\" % (scores.mean(), scores.std() * 2))"
   ]
  },
  {
   "cell_type": "markdown",
   "metadata": {},
   "source": [
    "## Model V 1.0\n",
    "1. Independent Variables = 'Year',log('Price'),'Kms_Driven','Fuel_Type','Seller_Type'\n",
    "2. Dependent Variable = log('Selling_Price')\n",
    "3. Outlier Removal Price > 40 and Kms_Driven > 300000\n",
    "4. Seller Type and Fuel_Type are encoded - one hot encoding\n",
    "4. Linear Regression"
   ]
  },
  {
   "cell_type": "code",
   "execution_count": 52,
   "metadata": {},
   "outputs": [
    {
     "data": {
      "text/plain": [
       "(238, 9)"
      ]
     },
     "execution_count": 52,
     "metadata": {},
     "output_type": "execute_result"
    }
   ],
   "source": [
    "train_data_woo = train_data[(train_data['Price']< 40) & (train_data['Kms_Driven']< 300000)].copy()\n",
    "train_data_woo.shape"
   ]
  },
  {
   "cell_type": "code",
   "execution_count": 53,
   "metadata": {},
   "outputs": [],
   "source": [
    "X = train_data_woo[['Year','Price','Kms_Driven','Fuel_Type','Seller_Type']].copy()\n",
    "y = np.log(train_data_woo['Selling_Price'])          \n",
    "\n",
    "X['log_Price'] = np.log(X['Price'])\n",
    "X = pd.concat([X,pd.get_dummies(X['Fuel_Type'],prefix='Fuel')],axis=1)\n",
    "X = pd.concat([X,pd.get_dummies(X['Seller_Type'],prefix='Seller')],axis=1)\n",
    "X = X.drop(['Price', 'Fuel_Type','Seller_Type'], axis=1)"
   ]
  },
  {
   "cell_type": "code",
   "execution_count": 54,
   "metadata": {},
   "outputs": [
    {
     "name": "stdout",
     "output_type": "stream",
     "text": [
      "[0.98009974 0.98000493 0.97141734 0.975828  ]\n",
      "Accuracy: 0.98 (+/- 0.01)\n"
     ]
    }
   ],
   "source": [
    "reg = LinearRegression()\n",
    "scores = cross_val_score(reg, X, y, cv=4, scoring='r2')\n",
    "\n",
    "print(scores)\n",
    "print(\"Accuracy: %0.2f (+/- %0.2f)\" % (scores.mean(), scores.std() * 2))"
   ]
  },
  {
   "cell_type": "code",
   "execution_count": 55,
   "metadata": {},
   "outputs": [],
   "source": [
    "X = train_data_woo[['Year','Price','Kms_Driven','Fuel_Type','Seller_Type']].copy()\n",
    "y = np.log(train_data_woo['Selling_Price'])          \n",
    "\n",
    "X['log_Price'] = np.log(X['Price'])\n",
    "X['Years_used'] = 2018 - X['Year']\n",
    "X = pd.concat([X,pd.get_dummies(X['Fuel_Type'],prefix='Fuel')],axis=1)\n",
    "X = pd.concat([X,pd.get_dummies(X['Seller_Type'],prefix='Seller')],axis=1)\n",
    "X = X.drop(['Year','Price', 'Fuel_Type','Seller_Type'], axis=1)"
   ]
  },
  {
   "cell_type": "code",
   "execution_count": 56,
   "metadata": {},
   "outputs": [
    {
     "name": "stdout",
     "output_type": "stream",
     "text": [
      "[0.98009974 0.98000493 0.97141734 0.975828  ]\n",
      "Accuracy: 0.98 (+/- 0.01)\n"
     ]
    }
   ],
   "source": [
    "reg = LinearRegression()\n",
    "scores = cross_val_score(reg, X, y, cv=4, scoring='r2')\n",
    "\n",
    "print(scores)\n",
    "print(\"Accuracy: %0.2f (+/- %0.2f)\" % (scores.mean(), scores.std() * 2))"
   ]
  },
  {
   "cell_type": "code",
   "execution_count": 57,
   "metadata": {},
   "outputs": [],
   "source": [
    "linear_model_v1 = reg.fit(X,y)"
   ]
  },
  {
   "cell_type": "code",
   "execution_count": 58,
   "metadata": {},
   "outputs": [
    {
     "data": {
      "text/plain": [
       "Kms_Driven          -0.000003\n",
       "log_Price            0.915346\n",
       "Years_used          -0.102788\n",
       "Fuel_CNG            -0.122307\n",
       "Fuel_Diesel          0.141940\n",
       "Fuel_Petrol         -0.019633\n",
       "Seller_Dealer        0.106921\n",
       "Seller_Individual   -0.106921\n",
       "dtype: float64"
      ]
     },
     "execution_count": 58,
     "metadata": {},
     "output_type": "execute_result"
    }
   ],
   "source": [
    "pd.Series(linear_model_v1.coef_, index=X.columns)"
   ]
  },
  {
   "cell_type": "code",
   "execution_count": 59,
   "metadata": {},
   "outputs": [
    {
     "data": {
      "text/plain": [
       "0.09782889117488514"
      ]
     },
     "execution_count": 59,
     "metadata": {},
     "output_type": "execute_result"
    }
   ],
   "source": [
    "linear_model_v1.intercept_"
   ]
  },
  {
   "cell_type": "code",
   "execution_count": 60,
   "metadata": {},
   "outputs": [],
   "source": [
    "X_train, X_test, y_train, y_test = train_test_split(X, y, test_size=0.33, random_state=42)"
   ]
  },
  {
   "cell_type": "code",
   "execution_count": 61,
   "metadata": {},
   "outputs": [],
   "source": [
    "linear_model_v1_val = reg.fit(X_train,y_train)"
   ]
  },
  {
   "cell_type": "code",
   "execution_count": 62,
   "metadata": {},
   "outputs": [],
   "source": [
    "y_predict = linear_model_v1_val.predict(X_test)"
   ]
  },
  {
   "cell_type": "code",
   "execution_count": 63,
   "metadata": {},
   "outputs": [
    {
     "data": {
      "image/png": "[encoded data removed]",
      "text/plain": [
       "<Figure size 1080x360 with 2 Axes>"
      ]
     },
     "metadata": {},
     "output_type": "display_data"
    }
   ],
   "source": [
    "data_pred = pd.DataFrame({'Actual': y_test, 'Predicted': y_predict})\n",
    "\n",
    "fig, ax = plt.subplots(figsize=(15,5), ncols=2, nrows=1)\n",
    "\n",
    "ax[0].set_title(\"Predicted vs Actual\")\n",
    "ax[1].set_title(\"residuals\")\n",
    "\n",
    "data_pred.plot.scatter(x='Actual', y='Predicted',ax=ax[0]);\n",
    "sns.residplot(data_pred['Actual'], data_pred['Predicted'], lowess=True, color=\"g\",ax=ax[1])\n",
    "\n",
    "plt.tight_layout()"
   ]
  },
  {
   "cell_type": "markdown",
   "metadata": {},
   "source": [
    "## Model V 2.0\n",
    "-------------------------------------------------------------------------------------------------------------\n",
    "1. Independent Variables = 'Year',log('Price'),'Fuel_Type','Seller_Type'\n",
    "2. Dependent Variable = log('Selling_Price')\n",
    "3. Outlier Removal Price > 40 and Kms_Driven > 300000\n",
    "4. Seller Type and Fuel_Type are encoded - one hot encoding\n",
    "5. Create Feature => Kms_per_year = 'Kms_Driven'/Years_used\n",
    "4. Linear Regression"
   ]
  },
  {
   "cell_type": "code",
   "execution_count": 64,
   "metadata": {},
   "outputs": [],
   "source": [
    "X = train_data_woo[['Year','Price','Kms_Driven','Fuel_Type','Seller_Type']].copy()\n",
    "y = np.log(train_data_woo['Selling_Price'])          \n",
    "\n",
    "X['log_Price'] = np.log(X['Price'])\n",
    "X = pd.concat([X,pd.get_dummies(X['Fuel_Type'],prefix='Fuel')],axis=1)\n",
    "X = pd.concat([X,pd.get_dummies(X['Seller_Type'],prefix='Seller')],axis=1)\n",
    "X['Kms_per_year'] = X['Kms_Driven']/(2019 - X['Year'])\n",
    "X = X.drop(['Price', 'Fuel_Type','Seller_Type'], axis=1)"
   ]
  },
  {
   "cell_type": "code",
   "execution_count": 65,
   "metadata": {},
   "outputs": [
    {
     "name": "stdout",
     "output_type": "stream",
     "text": [
      "[0.97926644 0.97996974 0.97085784 0.9757619 ]\n",
      "Accuracy: 0.98 (+/- 0.01)\n"
     ]
    }
   ],
   "source": [
    "reg = LinearRegression()\n",
    "scores = cross_val_score(reg, X, y, cv=4, scoring='r2')\n",
    "\n",
    "print(scores)\n",
    "print(\"Accuracy: %0.2f (+/- %0.2f)\" % (scores.mean(), scores.std() * 2))"
   ]
  },
  {
   "cell_type": "code",
   "execution_count": 66,
   "metadata": {},
   "outputs": [
    {
     "name": "stdout",
     "output_type": "stream",
     "text": [
      "-205.60621519989914\n"
     ]
    },
    {
     "data": {
      "text/plain": [
       "Year                 1.019320e-01\n",
       "Kms_Driven          -2.935966e-06\n",
       "log_Price            9.156776e-01\n",
       "Fuel_CNG            -1.221762e-01\n",
       "Fuel_Diesel          1.413970e-01\n",
       "Fuel_Petrol         -1.922080e-02\n",
       "Seller_Dealer        1.062744e-01\n",
       "Seller_Individual   -1.062744e-01\n",
       "Kms_per_year         9.030569e-07\n",
       "dtype: float64"
      ]
     },
     "execution_count": 66,
     "metadata": {},
     "output_type": "execute_result"
    }
   ],
   "source": [
    "linear_model_v2 = reg.fit(X,y)\n",
    "print(linear_model_v2.intercept_)\n",
    "pd.Series(linear_model_v2.coef_, index=X.columns)"
   ]
  },
  {
   "cell_type": "markdown",
   "metadata": {},
   "source": [
    "## Model V 3.0\n",
    "-------------------------------------------------------------------------------------------------------------\n",
    "1. Independent Variables = 'Year',log('Price'),'Fuel_Type','Seller_Type','Kms_Driven','Kms_per_year,'Transmission'\n",
    "2. Dependent Variable = log('Selling_Price')\n",
    "3. Outlier Removal Price > 40 and Kms_Driven > 300000\n",
    "4. Seller Type,Fuel_Type,Transmission are encoded - one hot encoding\n",
    "4. Linear Regression"
   ]
  },
  {
   "cell_type": "code",
   "execution_count": 67,
   "metadata": {},
   "outputs": [],
   "source": [
    "X = train_data_woo[['Year','Price','Kms_Driven','Fuel_Type','Seller_Type','Transmission']].copy()\n",
    "y = np.log(train_data_woo['Selling_Price'])          \n",
    "\n",
    "X['log_Price'] = np.log(X['Price'])\n",
    "X = pd.concat([X,pd.get_dummies(X['Fuel_Type'],prefix='Fuel')],axis=1)\n",
    "X = pd.concat([X,pd.get_dummies(X['Seller_Type'],prefix='Seller')],axis=1)\n",
    "X = pd.concat([X,pd.get_dummies(X['Transmission'],prefix='Transmission')],axis=1)\n",
    "X['Kms_per_year'] = X['Kms_Driven']/(2019 - X['Year'])\n",
    "X = X.drop(['Price', 'Fuel_Type','Seller_Type','Transmission'], axis=1)"
   ]
  },
  {
   "cell_type": "code",
   "execution_count": 68,
   "metadata": {},
   "outputs": [
    {
     "name": "stdout",
     "output_type": "stream",
     "text": [
      "[0.97924808 0.97999229 0.97087984 0.97574831]\n",
      "Accuracy: 0.98 (+/- 0.01)\n"
     ]
    }
   ],
   "source": [
    "reg = LinearRegression()\n",
    "scores = cross_val_score(reg, X, y, cv=4, scoring='r2')\n",
    "\n",
    "print(scores)\n",
    "print(\"Accuracy: %0.2f (+/- %0.2f)\" % (scores.mean(), scores.std() * 2))"
   ]
  },
  {
   "cell_type": "code",
   "execution_count": 69,
   "metadata": {},
   "outputs": [
    {
     "name": "stdout",
     "output_type": "stream",
     "text": [
      "-205.53686108706185\n"
     ]
    },
    {
     "data": {
      "text/plain": [
       "Year                      1.018932e-01\n",
       "Kms_Driven               -2.935101e-06\n",
       "log_Price                 9.185038e-01\n",
       "Fuel_CNG                 -1.226724e-01\n",
       "Fuel_Diesel               1.414902e-01\n",
       "Fuel_Petrol              -1.881780e-02\n",
       "Seller_Dealer             1.036454e-01\n",
       "Seller_Individual        -1.036454e-01\n",
       "Transmission_Automatic   -6.525633e-03\n",
       "Transmission_Manual       6.525633e-03\n",
       "Kms_per_year              9.066677e-07\n",
       "dtype: float64"
      ]
     },
     "execution_count": 69,
     "metadata": {},
     "output_type": "execute_result"
    }
   ],
   "source": [
    "linear_model_v3 = reg.fit(X,y)\n",
    "print(linear_model_v3.intercept_)\n",
    "pd.Series(linear_model_v3.coef_, index=X.columns)"
   ]
  },
  {
   "cell_type": "markdown",
   "metadata": {},
   "source": [
    "## Model V 4.0\n",
    "-------------------------------------------------------------------------------------------------------------\n",
    "1. Independent Variables = 'Year',log('Price'),'Fuel_Type','Seller_Type','Kms_Driven','Kms_per_year,'Transmission','Owner'\n",
    "2. Dependent Variable = log('Selling_Price')\n",
    "3. Outlier Removal Price > 40 and Kms_Driven > 120000\n",
    "4. Seller Type,Fuel_Type,Transmission are encoded - one hot encoding\n",
    "5. Mark 'High_Price' = 1 if log('Price') > 1\n",
    "4. Linear Regression"
   ]
  },
  {
   "cell_type": "code",
   "execution_count": 70,
   "metadata": {},
   "outputs": [
    {
     "data": {
      "text/plain": [
       "(232, 9)"
      ]
     },
     "execution_count": 70,
     "metadata": {},
     "output_type": "execute_result"
    }
   ],
   "source": [
    "train_data_woo_2 = train_data[(train_data['Price']< 40) & (train_data['Kms_Driven']< 120000)].copy()\n",
    "train_data_woo_2.shape"
   ]
  },
  {
   "cell_type": "code",
   "execution_count": 71,
   "metadata": {},
   "outputs": [],
   "source": [
    "X = train_data_woo_2[['Year','Price','Kms_Driven','Fuel_Type','Seller_Type','Transmission','Owner']].copy()\n",
    "y = np.log(train_data_woo_2['Selling_Price'])          \n",
    "\n",
    "X['log_Price'] = np.log(X['Price'])\n",
    "X = pd.concat([X,pd.get_dummies(X['Fuel_Type'],prefix='Fuel')],axis=1)\n",
    "X = pd.concat([X,pd.get_dummies(X['Seller_Type'],prefix='Seller')],axis=1)\n",
    "X = pd.concat([X,pd.get_dummies(X['Transmission'],prefix='Transmission')],axis=1)\n",
    "X['Kms_per_year'] = X['Kms_Driven']/(2019 - X['Year'])\n",
    "X['Multi_owner'] = X['Owner'].apply(lambda x: 1 if x > 1 else 0)\n",
    "X['High_price'] = X['log_Price'].apply(lambda x: 1 if x > 1 else 0)\n",
    "X = X.drop(['Price', 'Fuel_Type','Seller_Type','Transmission','Owner'], axis=1)"
   ]
  },
  {
   "cell_type": "code",
   "execution_count": 72,
   "metadata": {},
   "outputs": [
    {
     "name": "stdout",
     "output_type": "stream",
     "text": [
      "[0.98269861 0.98168491 0.9764045  0.97700576]\n",
      "Accuracy: 0.98 (+/- 0.01)\n"
     ]
    }
   ],
   "source": [
    "reg = LinearRegression()\n",
    "scores = cross_val_score(reg, X, y, cv=4, scoring='r2')\n",
    "\n",
    "print(scores)\n",
    "print(\"Accuracy: %0.2f (+/- %0.2f)\" % (scores.mean(), scores.std() * 2))"
   ]
  },
  {
   "cell_type": "code",
   "execution_count": 73,
   "metadata": {},
   "outputs": [
    {
     "name": "stdout",
     "output_type": "stream",
     "text": [
      "-155.32772690108067\n"
     ]
    },
    {
     "data": {
      "text/plain": [
       "Year                      0.076980\n",
       "Kms_Driven               -0.000007\n",
       "log_Price                 0.912278\n",
       "Fuel_CNG                 -0.126538\n",
       "Fuel_Diesel               0.147096\n",
       "Fuel_Petrol              -0.020558\n",
       "Seller_Dealer             0.080589\n",
       "Seller_Individual        -0.080589\n",
       "Transmission_Automatic    0.000391\n",
       "Transmission_Manual      -0.000391\n",
       "Kms_per_year              0.000014\n",
       "Multi_owner              -0.253181\n",
       "High_price                0.084319\n",
       "dtype: float64"
      ]
     },
     "execution_count": 73,
     "metadata": {},
     "output_type": "execute_result"
    }
   ],
   "source": [
    "linear_model_v4 = reg.fit(X,y)\n",
    "print(linear_model_v4.intercept_)\n",
    "pd.Series(linear_model_v4.coef_, index=X.columns)"
   ]
  },
  {
   "cell_type": "markdown",
   "metadata": {},
   "source": [
    "## Min Max scaling to coefficient comparison"
   ]
  },
  {
   "cell_type": "code",
   "execution_count": 74,
   "metadata": {},
   "outputs": [],
   "source": [
    "X = train_data_woo_2[['Year','Price','Kms_Driven','Fuel_Type','Seller_Type','Transmission','Owner']].copy()\n",
    "y = np.log(train_data_woo_2['Selling_Price'])          \n",
    "\n",
    "X['log_Price'] = np.log(X['Price'])\n",
    "X = pd.concat([X,pd.get_dummies(X['Fuel_Type'],prefix='Fuel')],axis=1)\n",
    "X = pd.concat([X,pd.get_dummies(X['Seller_Type'],prefix='Seller')],axis=1)\n",
    "X = pd.concat([X,pd.get_dummies(X['Transmission'],prefix='Transmission')],axis=1)\n",
    "X['Kms_per_year'] = X['Kms_Driven']/(2019 - X['Year'])\n",
    "X['Multi_owner'] = X['Owner'].apply(lambda x: 1 if x > 1 else 0)\n",
    "X['High_price'] = X['log_Price'].apply(lambda x: 1 if x > 1 else 0)\n",
    "X = X.drop(['Price', 'Fuel_Type','Seller_Type','Transmission','Owner'], axis=1)\n",
    "\n",
    "scaler = MinMaxScaler()\n",
    "X_transformed = scaler.fit_transform(X)"
   ]
  },
  {
   "cell_type": "code",
   "execution_count": 75,
   "metadata": {},
   "outputs": [
    {
     "data": {
      "text/html": [
       "<div>\n",
       "<style scoped>\n",
       "    .dataframe tbody tr th:only-of-type {\n",
       "        vertical-align: middle;\n",
       "    }\n",
       "\n",
       "    .dataframe tbody tr th {\n",
       "        vertical-align: top;\n",
       "    }\n",
       "\n",
       "    .dataframe thead th {\n",
       "        text-align: right;\n",
       "    }\n",
       "</style>\n",
       "<table border=\"1\" class=\"dataframe\">\n",
       "  <thead>\n",
       "    <tr style=\"text-align: right;\">\n",
       "      <th></th>\n",
       "      <th>Year</th>\n",
       "      <th>Kms_Driven</th>\n",
       "      <th>log_Price</th>\n",
       "      <th>Fuel_CNG</th>\n",
       "      <th>Fuel_Diesel</th>\n",
       "      <th>Fuel_Petrol</th>\n",
       "      <th>Seller_Dealer</th>\n",
       "      <th>Seller_Individual</th>\n",
       "      <th>Transmission_Automatic</th>\n",
       "      <th>Transmission_Manual</th>\n",
       "      <th>Kms_per_year</th>\n",
       "      <th>Multi_owner</th>\n",
       "      <th>High_price</th>\n",
       "    </tr>\n",
       "  </thead>\n",
       "  <tbody>\n",
       "    <tr>\n",
       "      <th>count</th>\n",
       "      <td>232.000000</td>\n",
       "      <td>232.000000</td>\n",
       "      <td>232.000000</td>\n",
       "      <td>232.000000</td>\n",
       "      <td>232.000000</td>\n",
       "      <td>232.000000</td>\n",
       "      <td>232.000000</td>\n",
       "      <td>232.000000</td>\n",
       "      <td>232.000000</td>\n",
       "      <td>232.000000</td>\n",
       "      <td>232.000000</td>\n",
       "      <td>232.000000</td>\n",
       "      <td>232.000000</td>\n",
       "    </tr>\n",
       "    <tr>\n",
       "      <th>mean</th>\n",
       "      <td>0.724138</td>\n",
       "      <td>0.306417</td>\n",
       "      <td>0.539630</td>\n",
       "      <td>0.008621</td>\n",
       "      <td>0.185345</td>\n",
       "      <td>0.806034</td>\n",
       "      <td>0.659483</td>\n",
       "      <td>0.340517</td>\n",
       "      <td>0.103448</td>\n",
       "      <td>0.896552</td>\n",
       "      <td>0.329525</td>\n",
       "      <td>0.034483</td>\n",
       "      <td>0.663793</td>\n",
       "    </tr>\n",
       "    <tr>\n",
       "      <th>std</th>\n",
       "      <td>0.176415</td>\n",
       "      <td>0.208993</td>\n",
       "      <td>0.252139</td>\n",
       "      <td>0.092646</td>\n",
       "      <td>0.389417</td>\n",
       "      <td>0.396257</td>\n",
       "      <td>0.474908</td>\n",
       "      <td>0.474908</td>\n",
       "      <td>0.305202</td>\n",
       "      <td>0.305202</td>\n",
       "      <td>0.205319</td>\n",
       "      <td>0.182860</td>\n",
       "      <td>0.473432</td>\n",
       "    </tr>\n",
       "    <tr>\n",
       "      <th>min</th>\n",
       "      <td>0.000000</td>\n",
       "      <td>0.000000</td>\n",
       "      <td>0.000000</td>\n",
       "      <td>0.000000</td>\n",
       "      <td>0.000000</td>\n",
       "      <td>0.000000</td>\n",
       "      <td>0.000000</td>\n",
       "      <td>0.000000</td>\n",
       "      <td>0.000000</td>\n",
       "      <td>0.000000</td>\n",
       "      <td>0.000000</td>\n",
       "      <td>0.000000</td>\n",
       "      <td>0.000000</td>\n",
       "    </tr>\n",
       "    <tr>\n",
       "      <th>25%</th>\n",
       "      <td>0.600000</td>\n",
       "      <td>0.139146</td>\n",
       "      <td>0.287218</td>\n",
       "      <td>0.000000</td>\n",
       "      <td>0.000000</td>\n",
       "      <td>1.000000</td>\n",
       "      <td>0.000000</td>\n",
       "      <td>0.000000</td>\n",
       "      <td>0.000000</td>\n",
       "      <td>1.000000</td>\n",
       "      <td>0.174727</td>\n",
       "      <td>0.000000</td>\n",
       "      <td>0.000000</td>\n",
       "    </tr>\n",
       "    <tr>\n",
       "      <th>50%</th>\n",
       "      <td>0.800000</td>\n",
       "      <td>0.286703</td>\n",
       "      <td>0.617485</td>\n",
       "      <td>0.000000</td>\n",
       "      <td>0.000000</td>\n",
       "      <td>1.000000</td>\n",
       "      <td>1.000000</td>\n",
       "      <td>0.000000</td>\n",
       "      <td>0.000000</td>\n",
       "      <td>1.000000</td>\n",
       "      <td>0.315457</td>\n",
       "      <td>0.000000</td>\n",
       "      <td>1.000000</td>\n",
       "    </tr>\n",
       "    <tr>\n",
       "      <th>75%</th>\n",
       "      <td>0.866667</td>\n",
       "      <td>0.446227</td>\n",
       "      <td>0.719430</td>\n",
       "      <td>0.000000</td>\n",
       "      <td>0.000000</td>\n",
       "      <td>1.000000</td>\n",
       "      <td>1.000000</td>\n",
       "      <td>1.000000</td>\n",
       "      <td>0.000000</td>\n",
       "      <td>1.000000</td>\n",
       "      <td>0.446020</td>\n",
       "      <td>0.000000</td>\n",
       "      <td>1.000000</td>\n",
       "    </tr>\n",
       "    <tr>\n",
       "      <th>max</th>\n",
       "      <td>1.000000</td>\n",
       "      <td>1.000000</td>\n",
       "      <td>1.000000</td>\n",
       "      <td>1.000000</td>\n",
       "      <td>1.000000</td>\n",
       "      <td>1.000000</td>\n",
       "      <td>1.000000</td>\n",
       "      <td>1.000000</td>\n",
       "      <td>1.000000</td>\n",
       "      <td>1.000000</td>\n",
       "      <td>1.000000</td>\n",
       "      <td>1.000000</td>\n",
       "      <td>1.000000</td>\n",
       "    </tr>\n",
       "  </tbody>\n",
       "</table>\n",
       "</div>"
      ],
      "text/plain": [
       "             Year  Kms_Driven   log_Price    Fuel_CNG  Fuel_Diesel  \\\n",
       "count  232.000000  232.000000  232.000000  232.000000   232.000000   \n",
       "mean     0.724138    0.306417    0.539630    0.008621     0.185345   \n",
       "std      0.176415    0.208993    0.252139    0.092646     0.389417   \n",
       "min      0.000000    0.000000    0.000000    0.000000     0.000000   \n",
       "25%      0.600000    0.139146    0.287218    0.000000     0.000000   \n",
       "50%      0.800000    0.286703    0.617485    0.000000     0.000000   \n",
       "75%      0.866667    0.446227    0.719430    0.000000     0.000000   \n",
       "max      1.000000    1.000000    1.000000    1.000000     1.000000   \n",
       "\n",
       "       Fuel_Petrol  Seller_Dealer  Seller_Individual  Transmission_Automatic  \\\n",
       "count   232.000000     232.000000         232.000000              232.000000   \n",
       "mean      0.806034       0.659483           0.340517                0.103448   \n",
       "std       0.396257       0.474908           0.474908                0.305202   \n",
       "min       0.000000       0.000000           0.000000                0.000000   \n",
       "25%       1.000000       0.000000           0.000000                0.000000   \n",
       "50%       1.000000       1.000000           0.000000                0.000000   \n",
       "75%       1.000000       1.000000           1.000000                0.000000   \n",
       "max       1.000000       1.000000           1.000000                1.000000   \n",
       "\n",
       "       Transmission_Manual  Kms_per_year  Multi_owner  High_price  \n",
       "count           232.000000    232.000000   232.000000  232.000000  \n",
       "mean              0.896552      0.329525     0.034483    0.663793  \n",
       "std               0.305202      0.205319     0.182860    0.473432  \n",
       "min               0.000000      0.000000     0.000000    0.000000  \n",
       "25%               1.000000      0.174727     0.000000    0.000000  \n",
       "50%               1.000000      0.315457     0.000000    1.000000  \n",
       "75%               1.000000      0.446020     0.000000    1.000000  \n",
       "max               1.000000      1.000000     1.000000    1.000000  "
      ]
     },
     "execution_count": 75,
     "metadata": {},
     "output_type": "execute_result"
    }
   ],
   "source": [
    "pd.DataFrame(X_transformed, columns=X.columns).describe()"
   ]
  },
  {
   "cell_type": "code",
   "execution_count": 76,
   "metadata": {},
   "outputs": [
    {
     "name": "stdout",
     "output_type": "stream",
     "text": [
      "[0.98269861 0.98168491 0.9764045  0.97700576]\n",
      "Accuracy: 0.98 (+/- 0.01)\n"
     ]
    }
   ],
   "source": [
    "reg = LinearRegression()\n",
    "scores = cross_val_score(reg, X_transformed, y, cv=4, scoring='r2')\n",
    "\n",
    "print(scores)\n",
    "print(\"Accuracy: %0.2f (+/- %0.2f)\" % (scores.mean(), scores.std() * 2))"
   ]
  },
  {
   "cell_type": "code",
   "execution_count": 77,
   "metadata": {},
   "outputs": [
    {
     "name": "stdout",
     "output_type": "stream",
     "text": [
      "-2.178428613650116\n"
     ]
    },
    {
     "data": {
      "text/plain": [
       "Kms_Driven               -0.781106\n",
       "Multi_owner              -0.253181\n",
       "Fuel_CNG                 -0.126538\n",
       "Seller_Individual        -0.080589\n",
       "Fuel_Petrol              -0.020558\n",
       "Transmission_Manual      -0.000391\n",
       "Transmission_Automatic    0.000391\n",
       "Seller_Dealer             0.080589\n",
       "High_price                0.084319\n",
       "Fuel_Diesel               0.147096\n",
       "Kms_per_year              0.264096\n",
       "Year                      1.154695\n",
       "log_Price                 4.314456\n",
       "dtype: float64"
      ]
     },
     "execution_count": 77,
     "metadata": {},
     "output_type": "execute_result"
    }
   ],
   "source": [
    "linear_model_v4 = reg.fit(X_transformed,y)\n",
    "print(linear_model_v4.intercept_)\n",
    "pd.Series(linear_model_v4.coef_, index=X.columns).sort_values()"
   ]
  },
  {
   "cell_type": "markdown",
   "metadata": {},
   "source": [
    "## Model V 5.0\n",
    "-------------------------------------------------------------------------------------------------------------\n",
    "1. Independent Variables = 'Year',log('Price'),'Fuel_Type','Seller_Type','Kms_Driven','Kms_per_year,'Transmission','Owner'\n",
    "2. Dependent Variable = log('Selling_Price')\n",
    "3. Outlier Removal Price > 40 and Kms_Driven > 120000\n",
    "4. Seller Type,Fuel_Type,Transmission are encoded - one hot encoding\n",
    "5. Mark 'High_Price' = 1 if log('Price') > 1\n",
    "6. Remove parameters ~ which are not impacting\n",
    "6. Linear Regression"
   ]
  },
  {
   "cell_type": "code",
   "execution_count": 78,
   "metadata": {},
   "outputs": [],
   "source": [
    "X = train_data_woo_2[['Year','Price','Kms_Driven','Fuel_Type','Seller_Type','Transmission','Owner']].copy()\n",
    "y = np.log(train_data_woo_2['Selling_Price'])          \n",
    "\n",
    "X['log_Price'] = np.log(X['Price'])\n",
    "X = pd.concat([X,pd.get_dummies(X['Fuel_Type'],prefix='Fuel')],axis=1)\n",
    "X = pd.concat([X,pd.get_dummies(X['Seller_Type'],prefix='Seller')],axis=1)\n",
    "X = pd.concat([X,pd.get_dummies(X['Transmission'],prefix='Transmission')],axis=1)\n",
    "X['Kms_per_year'] = X['Kms_Driven']/(2019 - X['Year'])\n",
    "X['Multi_owner'] = X['Owner'].apply(lambda x: 1 if x > 1 else 0)\n",
    "X['High_price'] = X['log_Price'].apply(lambda x: 1 if x > 1 else 0)\n",
    "X = X.drop(['Price', 'Fuel_Type','Fuel_CNG','Seller_Dealer','Seller_Type','Transmission_Manual','Transmission','Owner',\n",
    "            'High_price','Kms_per_year','Fuel_Diesel'], axis=1)\n",
    "\n",
    "scaler = MinMaxScaler()\n",
    "X_transformed = scaler.fit_transform(X)"
   ]
  },
  {
   "cell_type": "code",
   "execution_count": 79,
   "metadata": {},
   "outputs": [
    {
     "name": "stdout",
     "output_type": "stream",
     "text": [
      "[0.98261277 0.98113123 0.97527735 0.97770591]\n",
      "Accuracy: 0.98 (+/- 0.01)\n"
     ]
    }
   ],
   "source": [
    "reg = LinearRegression()\n",
    "scores = cross_val_score(reg, X_transformed, y, cv=4, scoring='r2')\n",
    "\n",
    "print(scores)\n",
    "print(\"Accuracy: %0.2f (+/- %0.2f)\" % (scores.mean(), scores.std() * 2))"
   ]
  },
  {
   "cell_type": "code",
   "execution_count": 80,
   "metadata": {},
   "outputs": [
    {
     "name": "stdout",
     "output_type": "stream",
     "text": [
      "-2.082708779848624\n"
     ]
    },
    {
     "data": {
      "text/plain": [
       "Kms_Driven               -0.484190\n",
       "Multi_owner              -0.237572\n",
       "Seller_Individual        -0.225512\n",
       "Fuel_Petrol              -0.155561\n",
       "Transmission_Automatic   -0.000337\n",
       "Year                      1.393012\n",
       "log_Price                 4.352247\n",
       "dtype: float64"
      ]
     },
     "execution_count": 80,
     "metadata": {},
     "output_type": "execute_result"
    }
   ],
   "source": [
    "linear_model_v5 = reg.fit(X_transformed,y)\n",
    "print(linear_model_v5.intercept_)\n",
    "pd.Series(linear_model_v5.coef_, index=X.columns).sort_values()"
   ]
  },
  {
   "cell_type": "markdown",
   "metadata": {},
   "source": [
    "## How model performs on test_data (with ground truth)"
   ]
  },
  {
   "cell_type": "code",
   "execution_count": 81,
   "metadata": {},
   "outputs": [
    {
     "data": {
      "text/html": [
       "<div>\n",
       "<style scoped>\n",
       "    .dataframe tbody tr th:only-of-type {\n",
       "        vertical-align: middle;\n",
       "    }\n",
       "\n",
       "    .dataframe tbody tr th {\n",
       "        vertical-align: top;\n",
       "    }\n",
       "\n",
       "    .dataframe thead th {\n",
       "        text-align: right;\n",
       "    }\n",
       "</style>\n",
       "<table border=\"1\" class=\"dataframe\">\n",
       "  <thead>\n",
       "    <tr style=\"text-align: right;\">\n",
       "      <th></th>\n",
       "      <th>Car_Name</th>\n",
       "      <th>Year</th>\n",
       "      <th>Selling_Price</th>\n",
       "      <th>Price</th>\n",
       "      <th>Kms_Driven</th>\n",
       "      <th>Fuel_Type</th>\n",
       "      <th>Seller_Type</th>\n",
       "      <th>Transmission</th>\n",
       "      <th>Owner</th>\n",
       "    </tr>\n",
       "  </thead>\n",
       "  <tbody>\n",
       "    <tr>\n",
       "      <th>184</th>\n",
       "      <td>Bajaj Pulsar 150</td>\n",
       "      <td>2008</td>\n",
       "      <td>0.25</td>\n",
       "      <td>0.75</td>\n",
       "      <td>26000</td>\n",
       "      <td>Petrol</td>\n",
       "      <td>Individual</td>\n",
       "      <td>Manual</td>\n",
       "      <td>2</td>\n",
       "    </tr>\n",
       "    <tr>\n",
       "      <th>82</th>\n",
       "      <td>innova</td>\n",
       "      <td>2017</td>\n",
       "      <td>23.00</td>\n",
       "      <td>25.39</td>\n",
       "      <td>15000</td>\n",
       "      <td>Diesel</td>\n",
       "      <td>Dealer</td>\n",
       "      <td>Automatic</td>\n",
       "      <td>1</td>\n",
       "    </tr>\n",
       "    <tr>\n",
       "      <th>41</th>\n",
       "      <td>alto k10</td>\n",
       "      <td>2014</td>\n",
       "      <td>2.55</td>\n",
       "      <td>3.98</td>\n",
       "      <td>46706</td>\n",
       "      <td>Petrol</td>\n",
       "      <td>Dealer</td>\n",
       "      <td>Manual</td>\n",
       "      <td>1</td>\n",
       "    </tr>\n",
       "    <tr>\n",
       "      <th>12</th>\n",
       "      <td>ciaz</td>\n",
       "      <td>2015</td>\n",
       "      <td>7.50</td>\n",
       "      <td>9.94</td>\n",
       "      <td>15000</td>\n",
       "      <td>Petrol</td>\n",
       "      <td>Dealer</td>\n",
       "      <td>Automatic</td>\n",
       "      <td>1</td>\n",
       "    </tr>\n",
       "    <tr>\n",
       "      <th>23</th>\n",
       "      <td>alto k10</td>\n",
       "      <td>2014</td>\n",
       "      <td>2.50</td>\n",
       "      <td>3.46</td>\n",
       "      <td>45280</td>\n",
       "      <td>Petrol</td>\n",
       "      <td>Dealer</td>\n",
       "      <td>Manual</td>\n",
       "      <td>1</td>\n",
       "    </tr>\n",
       "  </tbody>\n",
       "</table>\n",
       "</div>"
      ],
      "text/plain": [
       "             Car_Name  Year  Selling_Price  Price  Kms_Driven Fuel_Type  \\\n",
       "184  Bajaj Pulsar 150  2008           0.25   0.75       26000    Petrol   \n",
       "82             innova  2017          23.00  25.39       15000    Diesel   \n",
       "41           alto k10  2014           2.55   3.98       46706    Petrol   \n",
       "12               ciaz  2015           7.50   9.94       15000    Petrol   \n",
       "23           alto k10  2014           2.50   3.46       45280    Petrol   \n",
       "\n",
       "    Seller_Type Transmission  Owner  \n",
       "184  Individual       Manual      2  \n",
       "82       Dealer    Automatic      1  \n",
       "41       Dealer       Manual      1  \n",
       "12       Dealer    Automatic      1  \n",
       "23       Dealer       Manual      1  "
      ]
     },
     "execution_count": 81,
     "metadata": {},
     "output_type": "execute_result"
    }
   ],
   "source": [
    "test_data = pd.read_csv('used_cars_test_data_gt.csv',index_col=0)\n",
    "test_data.sample(5)"
   ]
  },
  {
   "cell_type": "code",
   "execution_count": 86,
   "metadata": {},
   "outputs": [],
   "source": [
    "X_test = test_data[['Year','Price','Kms_Driven','Fuel_Type','Seller_Type','Transmission','Owner']].copy()\n",
    "y_test = test_data['Selling_Price']   \n",
    "\n",
    "X_test['log_Price'] = np.log(X_test['Price'])\n",
    "X_test = pd.concat([X_test,pd.get_dummies(X_test['Fuel_Type'],prefix='Fuel')],axis=1)\n",
    "X_test = pd.concat([X_test,pd.get_dummies(X_test['Seller_Type'],prefix='Seller')],axis=1)\n",
    "X_test = pd.concat([X_test,pd.get_dummies(X_test['Transmission'],prefix='Transmission')],axis=1)\n",
    "X_test['Multi_owner'] = X_test['Owner'].apply(lambda x: 1 if x > 1 else 0)\n",
    "X_test = X_test.drop(['Price', 'Fuel_Type','Seller_Dealer','Seller_Type','Transmission_Manual','Transmission','Owner','Fuel_Diesel'], axis=1)\n",
    "\n",
    "scaler = MinMaxScaler()\n",
    "X_test_transformed = scaler.fit_transform(X_test)"
   ]
  },
  {
   "cell_type": "code",
   "execution_count": 89,
   "metadata": {},
   "outputs": [],
   "source": [
    "y_predict = linear_model_v5.predict(X_test_transformed)"
   ]
  },
  {
   "cell_type": "code",
   "execution_count": 91,
   "metadata": {},
   "outputs": [
    {
     "data": {
      "image/png": "[encoded data removed]",
      "text/plain": [
       "<Figure size 1080x360 with 2 Axes>"
      ]
     },
     "metadata": {},
     "output_type": "display_data"
    }
   ],
   "source": [
    "data_pred = pd.DataFrame({'Actual': np.log(y_test), 'Predicted': y_predict})\n",
    "\n",
    "fig, ax = plt.subplots(figsize=(15,5), ncols=2, nrows=1)\n",
    "\n",
    "ax[0].set_title(\"Predicted vs Actual\")\n",
    "ax[1].set_title(\"residuals\")\n",
    "\n",
    "data_pred.plot.scatter(x='Actual', y='Predicted',ax=ax[0]);\n",
    "sns.residplot(data_pred['Actual'], data_pred['Predicted'], lowess=True, color=\"g\",ax=ax[1])\n",
    "\n",
    "plt.tight_layout()"
   ]
  },
  {
   "cell_type": "code",
   "execution_count": 96,
   "metadata": {},
   "outputs": [
    {
     "name": "stdout",
     "output_type": "stream",
     "text": [
      "R2 score: 0.95\n"
     ]
    }
   ],
   "source": [
    "print('R2 score: %.2f' % metrics.r2_score(y_test, np.exp(y_predict)))"
   ]
  },
  {
   "cell_type": "code",
   "execution_count": 102,
   "metadata": {},
   "outputs": [
    {
     "data": {
      "text/html": [
       "<div>\n",
       "<style scoped>\n",
       "    .dataframe tbody tr th:only-of-type {\n",
       "        vertical-align: middle;\n",
       "    }\n",
       "\n",
       "    .dataframe tbody tr th {\n",
       "        vertical-align: top;\n",
       "    }\n",
       "\n",
       "    .dataframe thead th {\n",
       "        text-align: right;\n",
       "    }\n",
       "</style>\n",
       "<table border=\"1\" class=\"dataframe\">\n",
       "  <thead>\n",
       "    <tr style=\"text-align: right;\">\n",
       "      <th></th>\n",
       "      <th>Car_Name</th>\n",
       "      <th>Year</th>\n",
       "      <th>Selling_Price</th>\n",
       "      <th>Price</th>\n",
       "      <th>Kms_Driven</th>\n",
       "      <th>Fuel_Type</th>\n",
       "      <th>Seller_Type</th>\n",
       "      <th>Transmission</th>\n",
       "      <th>Owner</th>\n",
       "      <th>Actual</th>\n",
       "      <th>Predicted</th>\n",
       "    </tr>\n",
       "  </thead>\n",
       "  <tbody>\n",
       "    <tr>\n",
       "      <th>114</th>\n",
       "      <td>Royal Enfield Classic 350</td>\n",
       "      <td>2015</td>\n",
       "      <td>1.15</td>\n",
       "      <td>1.47</td>\n",
       "      <td>17000</td>\n",
       "      <td>Petrol</td>\n",
       "      <td>Individual</td>\n",
       "      <td>Manual</td>\n",
       "      <td>1</td>\n",
       "      <td>1.15</td>\n",
       "      <td>0.770491</td>\n",
       "    </tr>\n",
       "    <tr>\n",
       "      <th>99</th>\n",
       "      <td>fortuner</td>\n",
       "      <td>2010</td>\n",
       "      <td>9.65</td>\n",
       "      <td>20.45</td>\n",
       "      <td>50024</td>\n",
       "      <td>Diesel</td>\n",
       "      <td>Dealer</td>\n",
       "      <td>Manual</td>\n",
       "      <td>1</td>\n",
       "      <td>9.65</td>\n",
       "      <td>8.643073</td>\n",
       "    </tr>\n",
       "    <tr>\n",
       "      <th>242</th>\n",
       "      <td>xcent</td>\n",
       "      <td>2014</td>\n",
       "      <td>4.40</td>\n",
       "      <td>7.13</td>\n",
       "      <td>34000</td>\n",
       "      <td>Petrol</td>\n",
       "      <td>Dealer</td>\n",
       "      <td>Manual</td>\n",
       "      <td>1</td>\n",
       "      <td>4.40</td>\n",
       "      <td>4.193972</td>\n",
       "    </tr>\n",
       "    <tr>\n",
       "      <th>80</th>\n",
       "      <td>corolla altis</td>\n",
       "      <td>2016</td>\n",
       "      <td>14.73</td>\n",
       "      <td>14.89</td>\n",
       "      <td>23000</td>\n",
       "      <td>Diesel</td>\n",
       "      <td>Dealer</td>\n",
       "      <td>Manual</td>\n",
       "      <td>1</td>\n",
       "      <td>14.73</td>\n",
       "      <td>14.361244</td>\n",
       "    </tr>\n",
       "    <tr>\n",
       "      <th>30</th>\n",
       "      <td>ritz</td>\n",
       "      <td>2012</td>\n",
       "      <td>3.10</td>\n",
       "      <td>5.98</td>\n",
       "      <td>51439</td>\n",
       "      <td>Diesel</td>\n",
       "      <td>Dealer</td>\n",
       "      <td>Manual</td>\n",
       "      <td>1</td>\n",
       "      <td>3.10</td>\n",
       "      <td>2.927773</td>\n",
       "    </tr>\n",
       "    <tr>\n",
       "      <th>82</th>\n",
       "      <td>innova</td>\n",
       "      <td>2017</td>\n",
       "      <td>23.00</td>\n",
       "      <td>25.39</td>\n",
       "      <td>15000</td>\n",
       "      <td>Diesel</td>\n",
       "      <td>Dealer</td>\n",
       "      <td>Automatic</td>\n",
       "      <td>1</td>\n",
       "      <td>23.00</td>\n",
       "      <td>29.709988</td>\n",
       "    </tr>\n",
       "    <tr>\n",
       "      <th>51</th>\n",
       "      <td>fortuner</td>\n",
       "      <td>2015</td>\n",
       "      <td>23.00</td>\n",
       "      <td>30.61</td>\n",
       "      <td>40000</td>\n",
       "      <td>Diesel</td>\n",
       "      <td>Dealer</td>\n",
       "      <td>Automatic</td>\n",
       "      <td>1</td>\n",
       "      <td>23.00</td>\n",
       "      <td>25.044385</td>\n",
       "    </tr>\n",
       "    <tr>\n",
       "      <th>61</th>\n",
       "      <td>etios cross</td>\n",
       "      <td>2015</td>\n",
       "      <td>4.50</td>\n",
       "      <td>7.70</td>\n",
       "      <td>40588</td>\n",
       "      <td>Petrol</td>\n",
       "      <td>Dealer</td>\n",
       "      <td>Manual</td>\n",
       "      <td>1</td>\n",
       "      <td>4.50</td>\n",
       "      <td>4.929673</td>\n",
       "    </tr>\n",
       "    <tr>\n",
       "      <th>58</th>\n",
       "      <td>etios g</td>\n",
       "      <td>2014</td>\n",
       "      <td>4.10</td>\n",
       "      <td>6.80</td>\n",
       "      <td>39485</td>\n",
       "      <td>Petrol</td>\n",
       "      <td>Dealer</td>\n",
       "      <td>Manual</td>\n",
       "      <td>2</td>\n",
       "      <td>4.10</td>\n",
       "      <td>3.051282</td>\n",
       "    </tr>\n",
       "    <tr>\n",
       "      <th>119</th>\n",
       "      <td>Royal Enfield Thunder 500</td>\n",
       "      <td>2013</td>\n",
       "      <td>1.05</td>\n",
       "      <td>1.90</td>\n",
       "      <td>5400</td>\n",
       "      <td>Petrol</td>\n",
       "      <td>Individual</td>\n",
       "      <td>Manual</td>\n",
       "      <td>1</td>\n",
       "      <td>1.05</td>\n",
       "      <td>0.855207</td>\n",
       "    </tr>\n",
       "  </tbody>\n",
       "</table>\n",
       "</div>"
      ],
      "text/plain": [
       "                      Car_Name  Year  Selling_Price  Price  Kms_Driven  \\\n",
       "114  Royal Enfield Classic 350  2015           1.15   1.47       17000   \n",
       "99                    fortuner  2010           9.65  20.45       50024   \n",
       "242                      xcent  2014           4.40   7.13       34000   \n",
       "80               corolla altis  2016          14.73  14.89       23000   \n",
       "30                        ritz  2012           3.10   5.98       51439   \n",
       "82                      innova  2017          23.00  25.39       15000   \n",
       "51                    fortuner  2015          23.00  30.61       40000   \n",
       "61                 etios cross  2015           4.50   7.70       40588   \n",
       "58                     etios g  2014           4.10   6.80       39485   \n",
       "119  Royal Enfield Thunder 500  2013           1.05   1.90        5400   \n",
       "\n",
       "    Fuel_Type Seller_Type Transmission  Owner  Actual  Predicted  \n",
       "114    Petrol  Individual       Manual      1    1.15   0.770491  \n",
       "99     Diesel      Dealer       Manual      1    9.65   8.643073  \n",
       "242    Petrol      Dealer       Manual      1    4.40   4.193972  \n",
       "80     Diesel      Dealer       Manual      1   14.73  14.361244  \n",
       "30     Diesel      Dealer       Manual      1    3.10   2.927773  \n",
       "82     Diesel      Dealer    Automatic      1   23.00  29.709988  \n",
       "51     Diesel      Dealer    Automatic      1   23.00  25.044385  \n",
       "61     Petrol      Dealer       Manual      1    4.50   4.929673  \n",
       "58     Petrol      Dealer       Manual      2    4.10   3.051282  \n",
       "119    Petrol  Individual       Manual      1    1.05   0.855207  "
      ]
     },
     "execution_count": 102,
     "metadata": {},
     "output_type": "execute_result"
    }
   ],
   "source": [
    "pd.concat([test_data,pd.DataFrame({'Actual': y_test, 'Predicted':  np.exp(y_predict)})],axis=1)[:10]"
   ]
  }
 ],
 "metadata": {
  "kernelspec": {
   "display_name": "Python 3",
   "language": "python",
   "name": "python3"
  },
  "language_info": {
   "codemirror_mode": {
    "name": "ipython",
    "version": 3
   },
   "file_extension": ".py",
   "mimetype": "text/x-python",
   "name": "python",
   "nbconvert_exporter": "python",
   "pygments_lexer": "ipython3",
   "version": "3.6.5"
  }
 },
 "nbformat": 4,
 "nbformat_minor": 2
}
